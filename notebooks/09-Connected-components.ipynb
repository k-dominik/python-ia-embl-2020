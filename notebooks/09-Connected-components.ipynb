{
 "cells": [
  {
   "cell_type": "markdown",
   "metadata": {},
   "source": [
    "# Connected component analysis (CCA)"
   ]
  },
  {
   "cell_type": "markdown",
   "metadata": {},
   "source": [
    "## What is and object?"
   ]
  },
  {
   "cell_type": "code",
   "execution_count": null,
   "metadata": {},
   "outputs": [],
   "source": [
    "import skimage.io\n",
    "import skimage.filters\n",
    "from matplotlib import pyplot as plt\n",
    "import skimage.viewer"
   ]
  },
  {
   "cell_type": "code",
   "execution_count": null,
   "metadata": {},
   "outputs": [],
   "source": [
    "image = skimage.io.imread(\"../data/08-shapes.tif\", as_gray=True)\n",
    "smoothed = skimage.filters.gaussian(image, sigma=2.0)\n",
    "viewer = skimage.viewer.ImageViewer(smoothed < 0.8)\n",
    "# so what is an object here?\n",
    "# How would you describe the pixels that belong to a single object?\n",
    "# What would the numbers ideally be on such an image?\n",
    "viewer.show()"
   ]
  },
  {
   "cell_type": "markdown",
   "metadata": {},
   "source": [
    "### Pixel Neighborhood"
   ]
  },
  {
   "cell_type": "markdown",
   "metadata": {},
   "source": [
    "~~~\n",
    "0 0 0 0 0 0 0 0\n",
    "0 1 1 0 0 0 0 0\n",
    "0 1 1 0 0 0 0 0\n",
    "0 0 0 1 1 1 0 0\n",
    "0 0 0 1 1 1 1 0\n",
    "0 0 0 0 0 0 0 0\n",
    "~~~"
   ]
  },
  {
   "cell_type": "markdown",
   "metadata": {},
   "source": [
    "#### Orthogonal jumps:\n",
    "\n",
    "* only jumps parallel to one of the axes allowed\n",
    "* jump may only happen once for each axis\n",
    "\n",
    "##### 1-jump neigborhood\n",
    "\n",
    "```\n",
    "- 1 -\n",
    "1 x 1\n",
    "- 1 -\n",
    "```\n",
    "\n",
    "-> result from above:\n",
    "~~~\n",
    "0 0 0 0 0 0 0 0\n",
    "0 1 1 0 0 0 0 0\n",
    "0 1 1 0 0 0 0 0\n",
    "0 0 0 2 2 2 0 0\n",
    "0 0 0 2 2 2 2 0\n",
    "0 0 0 0 0 0 0 0\n",
    "~~~\n",
    "\n",
    "\n",
    "##### 2-jump neighborhood\n",
    "\n",
    "```\n",
    "2 1 2\n",
    "1 x 1\n",
    "2 1 2\n",
    "```\n",
    "\n",
    "-> result from above\n",
    "\n",
    "~~~\n",
    "0 0 0 0 0 0 0 0\n",
    "0 1 1 0 0 0 0 0\n",
    "0 1 1 0 0 0 0 0\n",
    "0 0 0 1 1 1 0 0\n",
    "0 0 0 1 1 1 1 0\n",
    "0 0 0 0 0 0 0 0\n",
    "~~~"
   ]
  },
  {
   "cell_type": "markdown",
   "metadata": {},
   "source": [
    "### Exercise:\n",
    "\n",
    "Consider the following \"image\":\n",
    "\n",
    "\n",
    "How many connected objects are there with\n",
    "\n",
    "1. 1-jump neighborhood\n",
    "\n",
    " * a. 1\n",
    " * b. 5\n",
    " * c. 2\n",
    "\n",
    "\n",
    "2. 2-jump neighborhood\n",
    "\n",
    " * a. 2\n",
    " * b. 3\n",
    " * c. 5"
   ]
  },
  {
   "cell_type": "code",
   "execution_count": null,
   "metadata": {},
   "outputs": [],
   "source": [
    "# 1. b - 5\n",
    "# 2. a - 2"
   ]
  },
  {
   "cell_type": "markdown",
   "metadata": {},
   "source": [
    "## Connected Component Analysis\n",
    "\n",
    "`skimage.measure.label`\n",
    "\n",
    "* takes a binary image as an input (`False` is background, `True` foreground)\n",
    "* CCA produces a new _labeled_ image with one integer number for each pixel (where pixels with the same number, belong to the same object)\n",
    "* pixels neighborhood is specified in means of orthogonal jumps"
   ]
  },
  {
   "cell_type": "code",
   "execution_count": null,
   "metadata": {},
   "outputs": [],
   "source": [
    "import skimage.measure\n",
    "\n",
    "image = skimage.io.imread(\"../data/08-shapes.tif\", as_gray=True)\n",
    "smoothed = skimage.filters.gaussian(image, sigma=2.0)\n",
    "binary = smoothed < 0.8\n",
    "skimage.io.imshow(binary)"
   ]
  },
  {
   "cell_type": "code",
   "execution_count": null,
   "metadata": {},
   "outputs": [],
   "source": [
    "# Perform CCA on the mask\n",
    "labeled_image = skimage.measure.label(binary, connectivity=2)\n",
    "viewer = skimage.viewer.ImageViewer(labeled_image)\n",
    "viewer.show()\n",
    "# -> all black output"
   ]
  },
  {
   "cell_type": "code",
   "execution_count": null,
   "metadata": {},
   "outputs": [],
   "source": [
    "import numpy\n",
    "print(\"dtype:\", labeled_image.dtype)\n",
    "print(\"min:\", numpy.min(labeled_image))\n",
    "print(\"max:\", numpy.max(labeled_image))"
   ]
  },
  {
   "cell_type": "code",
   "execution_count": null,
   "metadata": {},
   "outputs": [],
   "source": [
    "# The `dtype` of `label_image` is `int64`.\n",
    "# This means that values in this image range from `-2 ** 63` to `2 ** 63 - 1`.\n",
    "# Those are really big numbers.\n",
    "# From this available space we only use the range from `0` to `9`."
   ]
  },
  {
   "cell_type": "code",
   "execution_count": null,
   "metadata": {},
   "outputs": [],
   "source": [
    "import skimage.color\n",
    "labeled_rgb = skimage.color.label2rgb(labeled_image, bg_label=0)\n",
    "viewer = skimage.viewer.ImageViewer(labeled_rgb)\n",
    "viewer.show()"
   ]
  },
  {
   "cell_type": "code",
   "execution_count": null,
   "metadata": {},
   "outputs": [],
   "source": [
    "labeled_rgb = skimage.color.label2rgb(\n",
    "    labeled_image, image, bg_label=0, alpha=0.6)\n",
    "viewer = skimage.viewer.ImageViewer(labeled_rgb)\n",
    "viewer.show()"
   ]
  },
  {
   "cell_type": "markdown",
   "metadata": {},
   "source": [
    "### Exercise: How many objects are in that image\n",
    "\n",
    "Now, it is your turn to practice.\n",
    "Using the original `08-shapes.tif` image, add code to the following incomplete program, to count the number of objects in this image.\n",
    "How many objects do you count manually? How does changing the `sigma` and `threshold` values influence the result?"
   ]
  },
  {
   "cell_type": "code",
   "execution_count": null,
   "metadata": {},
   "outputs": [],
   "source": [
    "%load ../exercises/09-count-objects.py"
   ]
  },
  {
   "cell_type": "code",
   "execution_count": null,
   "metadata": {},
   "outputs": [],
   "source": [
    "import numpy\n",
    "max_label = numpy.max(labeled_image)\n",
    "print(\"Found\", max_label, \"objects.\")\n",
    "# Lowering the threshold will result in fewer objects.\n",
    "# The higher the threshold is set, the more objects are found.\n",
    "# More and more background noise gets picked up as objects.> > Lowering the threshold will result in fewer objects.\n",
    "# The higher the threshold is set, the more objects are found.\n",
    "# More and more background noise gets picked up as objects."
   ]
  },
  {
   "cell_type": "markdown",
   "metadata": {},
   "source": [
    "## Morphometrics"
   ]
  },
  {
   "cell_type": "code",
   "execution_count": null,
   "metadata": {},
   "outputs": [],
   "source": [
    "image = skimage.io.imread(\"../data/08-shapes.tif\", as_gray=True)\n",
    "smoothed = skimage.filters.gaussian(image, sigma=2.0)\n",
    "binary = smoothed < 0.8\n",
    "labeled_image = skimage.measure.label(binary)"
   ]
  },
  {
   "cell_type": "code",
   "execution_count": null,
   "metadata": {},
   "outputs": [],
   "source": [
    "region_props = skimage.measure.regionprops(labeled_image)"
   ]
  },
  {
   "cell_type": "code",
   "execution_count": null,
   "metadata": {},
   "outputs": [],
   "source": [
    "areas = [element[\"area\"] for element in region_props]\n",
    "print(areas)"
   ]
  },
  {
   "cell_type": "markdown",
   "metadata": {},
   "source": [
    "### Exercise: Plot a histogram of the object area distribution"
   ]
  },
  {
   "cell_type": "code",
   "execution_count": null,
   "metadata": {},
   "outputs": [],
   "source": [
    "%load ../exercises/09-count-objects.py"
   ]
  },
  {
   "cell_type": "code",
   "execution_count": null,
   "metadata": {},
   "outputs": [],
   "source": [
    "region_props = skimage.measure.regionprops(labeled_image)\n",
    "areas = [element[\"area\"] for element in region_props]\n",
    "plt.hist(areas)"
   ]
  },
  {
   "cell_type": "markdown",
   "metadata": {},
   "source": [
    "### Size filtering"
   ]
  },
  {
   "cell_type": "code",
   "execution_count": null,
   "metadata": {},
   "outputs": [],
   "source": [
    "for i, area in enumerate(areas):\n",
    "    if area < 10000:\n",
    "        labeled_image[labeled_image == i] = 0\n",
    "\n",
    "skimage.io.imshow(skimage.color.label2rgb(labeled_image, image, bg_label=0))"
   ]
  },
  {
   "cell_type": "markdown",
   "metadata": {},
   "source": [
    "### Exercise: print count of large objects only "
   ]
  },
  {
   "cell_type": "code",
   "execution_count": null,
   "metadata": {},
   "outputs": [],
   "source": [
    "%load ../exercises/09-count-objects.py"
   ]
  },
  {
   "cell_type": "code",
   "execution_count": null,
   "metadata": {},
   "outputs": [],
   "source": [
    "large_areas = []\n",
    "for area in areas:\n",
    "    if area > 10000:\n",
    "        large_areas.append(area)\n",
    "\n",
    "print(\"Found\", len(large_areas), \"objects.\")"
   ]
  },
  {
   "cell_type": "code",
   "execution_count": null,
   "metadata": {},
   "outputs": [],
   "source": [
    "solidities = []\n",
    "for rp in region_props:\n",
    "    if rp.area > 10000:\n",
    "        solidities.append(rp)\n",
    "plt.hist([x.solidity for x in solidities])"
   ]
  },
  {
   "cell_type": "code",
   "execution_count": null,
   "metadata": {},
   "outputs": [],
   "source": [
    "solidity_image = numpy.zeros_like(labeled_image).astype(\"float\")\n",
    "for rp in solidities:\n",
    "    solidity_image[labeled_image == rp.label] = rp.solidity\n",
    "plt.imshow(solidity_image)"
   ]
  },
  {
   "cell_type": "markdown",
   "metadata": {},
   "source": [
    "Keypoints:\n",
    "- `skimage.measure.label` is used to generate objects.\n",
    "- We use `skimage.measure.regionprops` to measure properties of labelled objects.\n",
    "- Color objects according to feature values."
   ]
  }
 ],
 "metadata": {
  "kernelspec": {
   "display_name": "Python 3",
   "language": "python",
   "name": "python3"
  },
  "language_info": {
   "codemirror_mode": {
    "name": "ipython",
    "version": 3
   },
   "file_extension": ".py",
   "mimetype": "text/x-python",
   "name": "python",
   "nbconvert_exporter": "python",
   "pygments_lexer": "ipython3",
   "version": "3.7.6"
  }
 },
 "nbformat": 4,
 "nbformat_minor": 4
}
