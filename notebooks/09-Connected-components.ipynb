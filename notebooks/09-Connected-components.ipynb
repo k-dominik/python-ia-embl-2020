{
 "cells": [
  {
   "cell_type": "markdown",
   "metadata": {},
   "source": [
    "# Connected component analysis (CCA)"
   ]
  },
  {
   "cell_type": "markdown",
   "metadata": {},
   "source": [
    "## What is and object?"
   ]
  },
  {
   "cell_type": "code",
   "execution_count": null,
   "metadata": {},
   "outputs": [],
   "source": []
  },
  {
   "cell_type": "code",
   "execution_count": null,
   "metadata": {},
   "outputs": [],
   "source": []
  },
  {
   "cell_type": "markdown",
   "metadata": {},
   "source": [
    "### Pixel Neighborhood"
   ]
  },
  {
   "cell_type": "markdown",
   "metadata": {},
   "source": [
    "~~~\n",
    "0 0 0 0 0 0 0 0\n",
    "0 1 1 0 0 0 0 0\n",
    "0 1 1 0 0 0 0 0\n",
    "0 0 0 1 1 1 0 0\n",
    "0 0 0 1 1 1 1 0\n",
    "0 0 0 0 0 0 0 0\n",
    "~~~"
   ]
  },
  {
   "cell_type": "markdown",
   "metadata": {},
   "source": [
    "#### Orthogonal jumps:\n",
    "\n",
    "* only jumps parallel to one of the axes allowed\n",
    "* jump may only happen once for each axis\n",
    "\n",
    "##### 1-jump neigborhood\n",
    "\n",
    "```\n",
    "- 1 -\n",
    "1 x 1\n",
    "- 1 -\n",
    "```\n",
    "\n",
    "-> result from above:\n",
    "~~~\n",
    "0 0 0 0 0 0 0 0\n",
    "0 1 1 0 0 0 0 0\n",
    "0 1 1 0 0 0 0 0\n",
    "0 0 0 2 2 2 0 0\n",
    "0 0 0 2 2 2 2 0\n",
    "0 0 0 0 0 0 0 0\n",
    "~~~\n",
    "\n",
    "\n",
    "##### 2-jump neighborhood\n",
    "\n",
    "```\n",
    "2 1 2\n",
    "1 x 1\n",
    "2 1 2\n",
    "```\n",
    "\n",
    "-> result from above\n",
    "\n",
    "~~~\n",
    "0 0 0 0 0 0 0 0\n",
    "0 1 1 0 0 0 0 0\n",
    "0 1 1 0 0 0 0 0\n",
    "0 0 0 1 1 1 0 0\n",
    "0 0 0 1 1 1 1 0\n",
    "0 0 0 0 0 0 0 0\n",
    "~~~"
   ]
  },
  {
   "cell_type": "markdown",
   "metadata": {},
   "source": [
    "### Exercise:\n",
    "\n",
    "Consider the following \"image\":\n",
    "\n",
    "\n",
    "How many connected objects are there with\n",
    "\n",
    "1. 1-jump neighborhood\n",
    "\n",
    " * a. 1\n",
    " * b. 5\n",
    " * c. 2\n",
    "\n",
    "\n",
    "2. 2-jump neighborhood\n",
    "\n",
    " * a. 2\n",
    " * b. 3\n",
    " * c. 5"
   ]
  },
  {
   "cell_type": "code",
   "execution_count": null,
   "metadata": {},
   "outputs": [],
   "source": []
  },
  {
   "cell_type": "markdown",
   "metadata": {},
   "source": [
    "## Connected Component Analysis\n",
    "\n",
    "`skimage.measure.label`\n",
    "\n",
    "* takes a binary image as an input (`False` is background, `True` foreground)\n",
    "* CCA produces a new _labeled_ image with one integer number for each pixel (where pixels with the same number, belong to the same object)\n",
    "* pixels neighborhood is specified in means of orthogonal jumps"
   ]
  },
  {
   "cell_type": "code",
   "execution_count": null,
   "metadata": {},
   "outputs": [],
   "source": []
  },
  {
   "cell_type": "code",
   "execution_count": null,
   "metadata": {},
   "outputs": [],
   "source": []
  },
  {
   "cell_type": "code",
   "execution_count": null,
   "metadata": {},
   "outputs": [],
   "source": []
  },
  {
   "cell_type": "code",
   "execution_count": null,
   "metadata": {},
   "outputs": [],
   "source": []
  },
  {
   "cell_type": "code",
   "execution_count": null,
   "metadata": {},
   "outputs": [],
   "source": []
  },
  {
   "cell_type": "code",
   "execution_count": null,
   "metadata": {},
   "outputs": [],
   "source": []
  },
  {
   "cell_type": "markdown",
   "metadata": {},
   "source": [
    "### Exercise: How many objects are in that image\n",
    "\n",
    "Now, it is your turn to practice.\n",
    "Using the original `08-shapes.tif` image, add code to the following incomplete program, to count the number of objects in this image.\n",
    "How many objects do you count manually? How does changing the `sigma` and `threshold` values influence the result?"
   ]
  },
  {
   "cell_type": "code",
   "execution_count": null,
   "metadata": {},
   "outputs": [],
   "source": [
    "%load ../exercises/09-count-objects.py"
   ]
  },
  {
   "cell_type": "code",
   "execution_count": null,
   "metadata": {},
   "outputs": [],
   "source": []
  },
  {
   "cell_type": "markdown",
   "metadata": {},
   "source": [
    "## Morphometrics"
   ]
  },
  {
   "cell_type": "code",
   "execution_count": null,
   "metadata": {},
   "outputs": [],
   "source": []
  },
  {
   "cell_type": "code",
   "execution_count": null,
   "metadata": {},
   "outputs": [],
   "source": []
  },
  {
   "cell_type": "code",
   "execution_count": null,
   "metadata": {},
   "outputs": [],
   "source": []
  },
  {
   "cell_type": "markdown",
   "metadata": {},
   "source": [
    "### Exercise: Plot a histogram of the object area distribution"
   ]
  },
  {
   "cell_type": "code",
   "execution_count": null,
   "metadata": {},
   "outputs": [],
   "source": [
    "%load ../exercises/09-count-objects.py"
   ]
  },
  {
   "cell_type": "code",
   "execution_count": null,
   "metadata": {},
   "outputs": [],
   "source": []
  },
  {
   "cell_type": "markdown",
   "metadata": {},
   "source": [
    "### Size filtering"
   ]
  },
  {
   "cell_type": "code",
   "execution_count": null,
   "metadata": {},
   "outputs": [],
   "source": []
  },
  {
   "cell_type": "markdown",
   "metadata": {},
   "source": [
    "### Exercise: print count of large objects only "
   ]
  },
  {
   "cell_type": "code",
   "execution_count": null,
   "metadata": {},
   "outputs": [],
   "source": [
    "%load ../exercises/09-count-objects.py"
   ]
  },
  {
   "cell_type": "code",
   "execution_count": null,
   "metadata": {},
   "outputs": [],
   "source": []
  },
  {
   "cell_type": "code",
   "execution_count": null,
   "metadata": {},
   "outputs": [],
   "source": []
  },
  {
   "cell_type": "code",
   "execution_count": null,
   "metadata": {},
   "outputs": [],
   "source": []
  },
  {
   "cell_type": "markdown",
   "metadata": {},
   "source": [
    "Keypoints:\n",
    "- `skimage.measure.label` is used to generate objects.\n",
    "- We use `skimage.measure.regionprops` to measure properties of labelled objects.\n",
    "- Color objects according to feature values."
   ]
  }
 ],
 "metadata": {
  "kernelspec": {
   "display_name": "Python 3",
   "language": "python",
   "name": "python3"
  },
  "language_info": {
   "codemirror_mode": {
    "name": "ipython",
    "version": 3
   },
   "file_extension": ".py",
   "mimetype": "text/x-python",
   "name": "python",
   "nbconvert_exporter": "python",
   "pygments_lexer": "ipython3",
   "version": "3.7.6"
  }
 },
 "nbformat": 4,
 "nbformat_minor": 4
}
