{
 "cells": [
  {
   "cell_type": "markdown",
   "metadata": {},
   "source": [
    "# Challenges\n",
    "\n",
    "In this episode, we will provide two different challenges for you to attempt, based on the skills you have acquired so far. One of the challenges will be related to the shape of objects in images (morphometrics), while the other will be related to colors of objects in images (colorimetrics). We will not provide solution code for either of the challenges, but your instructors should be able to give you some gentle hints if you need them.\n",
    "\n",
    "------\n",
    "\n",
    "\n",
    "### Bacteria Colony Counting\n",
    "\n",
    "As mentioned in the workshop _introduction_, \n",
    "your first final challenge is to determine how many bacteria colonies are in \n",
    "each of these images. As you already know, these images can be found in the \n",
    "**/data/** directory of the repository. \n",
    "\n",
    "![Colony image 1](../fig/00-colonies01.jpg)\n",
    "\n",
    "![Colony image 2](../fig/00-colonies02.jpg)\n",
    "\n",
    "![Colony image 3](../fig/00-colonies03.jpg)"
   ]
  },
  {
   "cell_type": "markdown",
   "metadata": {},
   "source": [
    "Write a Python program that uses skimage to count the number of bacteria colonies in each image, and for each, produce a new image that labels the colonies. Your output should be similar to this image:\n",
    "\n",
    "![colonies01 result](../fig/10-colonies01_overlay.png)\n",
    "\n",
    "This time you won't get detailed instructions for every step. Instead, try to come up with a solution strategy yourself.\n",
    "\n",
    "_Hint: You might want to use most of the analysis operations you already learned during the workshop, it's OK to copy code from preceding episodes!_\n",
    "\n",
    "**Bonus Task:** Generate a histogram plot, which shows the colony size distributions. \n",
    "\n",
    "_Hint: This is a good opportunity to use the convenience Matplotlib `plt.hist()` function, [read the docs here](https://matplotlib.org/3.1.1/api/_as_gen/matplotlib.pyplot.hist.html)._ "
   ]
  },
  {
   "cell_type": "code",
   "execution_count": null,
   "metadata": {},
   "outputs": [],
   "source": []
  },
  {
   "cell_type": "code",
   "execution_count": null,
   "metadata": {},
   "outputs": [],
   "source": []
  },
  {
   "cell_type": "code",
   "execution_count": null,
   "metadata": {},
   "outputs": [],
   "source": []
  },
  {
   "cell_type": "code",
   "execution_count": null,
   "metadata": {},
   "outputs": [],
   "source": []
  },
  {
   "cell_type": "code",
   "execution_count": null,
   "metadata": {},
   "outputs": [],
   "source": []
  },
  {
   "cell_type": "code",
   "execution_count": null,
   "metadata": {},
   "outputs": [],
   "source": []
  },
  {
   "cell_type": "code",
   "execution_count": null,
   "metadata": {},
   "outputs": [],
   "source": []
  },
  {
   "cell_type": "code",
   "execution_count": null,
   "metadata": {},
   "outputs": [],
   "source": []
  },
  {
   "cell_type": "code",
   "execution_count": null,
   "metadata": {},
   "outputs": [],
   "source": []
  },
  {
   "cell_type": "markdown",
   "metadata": {},
   "source": [
    "### Colorimetrics: titration color analysis\n",
    "\n",
    "The video showing the titration process first mentioned in the workshop \n",
    "_introduction_ episode can be found in the \n",
    "**/data/titration-movie** directory.\n",
    "Write a Python program that uses skimage to analyze the video on a\n",
    "frame-by-frame basis. Your program should do the following:\n",
    "\n",
    "1. Sample a ROI from the same location on each frame, and determine the \n",
    "\taverage red, green, and blue channel value.\n",
    "\n",
    "2. Display a graph plotting the average color channel values as a function of\n",
    "\tthe frame number, similar to this image:\n",
    "\n",
    "\t![Titration colors](../fig/00-colorimetric-result.png)\n",
    "\n",
    "3. Save the graph as an image named **titration.png**.\n",
    "\n",
    "4. Output a CSV file named **titration.csv**, with each line containing\n",
    "\tthe frame number, average red value, average green value, and average\n",
    "\tblue value\n",
    "    \n",
    "_Hint: The movie is given as an image sequence in `/data/titration-movie/image*.jpg`. Use `sorted( glob.glob(...) )` to crawl through the directory and read the images with `skimage.io`. Using a Pandas `DataFrame` to record the measurements might be a good idea, but no must._\n"
   ]
  },
  {
   "cell_type": "code",
   "execution_count": null,
   "metadata": {},
   "outputs": [],
   "source": []
  },
  {
   "cell_type": "code",
   "execution_count": null,
   "metadata": {},
   "outputs": [],
   "source": []
  },
  {
   "cell_type": "code",
   "execution_count": null,
   "metadata": {},
   "outputs": [],
   "source": []
  },
  {
   "cell_type": "code",
   "execution_count": null,
   "metadata": {},
   "outputs": [],
   "source": []
  },
  {
   "cell_type": "code",
   "execution_count": null,
   "metadata": {},
   "outputs": [],
   "source": []
  },
  {
   "cell_type": "code",
   "execution_count": null,
   "metadata": {},
   "outputs": [],
   "source": []
  }
 ],
 "metadata": {
  "kernelspec": {
   "display_name": "Python 3",
   "language": "python",
   "name": "python3"
  },
  "language_info": {
   "codemirror_mode": {
    "name": "ipython",
    "version": 3
   },
   "file_extension": ".py",
   "mimetype": "text/x-python",
   "name": "python",
   "nbconvert_exporter": "python",
   "pygments_lexer": "ipython3",
   "version": "3.7.6"
  }
 },
 "nbformat": 4,
 "nbformat_minor": 4
}
