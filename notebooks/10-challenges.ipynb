{
 "cells": [
  {
   "cell_type": "markdown",
   "metadata": {},
   "source": [
    "# Challenges\n",
    "\n",
    "In this episode, we will provide two different challenges for you to attempt, based on the skills you have acquired so far. One of the challenges will be related to the shape of objects in images (morphometrics), while the other will be related to colors of objects in images (colorimetrics). We will not provide solution code for either of the challenges, but your instructors should be able to give you some gentle hints if you need them.\n",
    "\n",
    "------\n",
    "\n",
    "\n",
    "### Bacteria Colony Counting\n",
    "\n",
    "As mentioned in the workshop _introduction_, \n",
    "your first final challenge is to determine how many bacteria colonies are in \n",
    "each of these images. As you already know, these images can be found in the \n",
    "**/data/** directory of the repository. \n",
    "\n",
    "![Colony image 1](../fig/00-colonies01.jpg)\n",
    "\n",
    "![Colony image 2](../fig/00-colonies02.jpg)\n",
    "\n",
    "![Colony image 3](../fig/00-colonies03.jpg)"
   ]
  },
  {
   "cell_type": "markdown",
   "metadata": {},
   "source": [
    "Write a Python program that uses skimage to count the number of bacteria colonies in each image, and for each, produce a new image that labels the colonies. Your output should be similar to this image:\n",
    "\n",
    "![colonies01 result](../fig/10-colonies01_overlay.png)\n",
    "\n",
    "This time you won't get detailed instructions for every step. Instead, try to come up with a solution strategy yourself.\n",
    "\n",
    "_Hint: You might want to use most of the analysis operations you already learned during the workshop, it's OK to copy code from preceding episodes!_\n",
    "\n",
    "**Bonus Task:** Generate a histogram plot, which shows the colony size distributions. \n",
    "\n",
    "_Hint: This is a good opportunity to use the convenience Matplotlib `plt.hist()` function, [read the docs here](https://matplotlib.org/3.1.1/api/_as_gen/matplotlib.pyplot.hist.html)._ "
   ]
  },
  {
   "cell_type": "code",
   "execution_count": null,
   "metadata": {},
   "outputs": [],
   "source": [
    "import skimage\n",
    "import skimage.io\n",
    "import skimage.filters\n",
    "import numpy as np\n",
    "import matplotlib.pyplot as plt                                                 \n",
    "# 'magic' to display plots in the jupyter notebook                              \n",
    "%matplotlib inline\n",
    "\n",
    "# read the image data\n",
    "col1 = skimage.io.imread('../data/colonies01.tif', as_gray = True)\n",
    "col2 = skimage.io.imread('../data/colonies02.tif', as_gray = True)\n",
    "col3 = skimage.io.imread('../data/colonies03.tif', as_gray = True)\n",
    "\n",
    "# organize the data in a dictionary\n",
    "dishes = {'Dish 1' : col1, 'Dish 2' : col2, 'Dish 3' : col3}"
   ]
  },
  {
   "cell_type": "code",
   "execution_count": null,
   "metadata": {},
   "outputs": [],
   "source": [
    "# blurr the images\n",
    "sigma = .7\n",
    "blurred_dishes = {}\n",
    "for name, image in dishes.items():\n",
    "    blurred = skimage.filters.gaussian(image, sigma)\n",
    "    blurred_dishes[name] = blurred"
   ]
  },
  {
   "cell_type": "code",
   "execution_count": null,
   "metadata": {},
   "outputs": [],
   "source": [
    "# we need histograms again\n",
    "def plot_histogram(image):                                                      \n",
    "                                                                                \n",
    "    histogram, bin_edges = np.histogram(image, bins = 256, range = (0,1))  \n",
    "    \n",
    "    plt.figure()\n",
    "    plt.plot(bin_edges[:-1], histogram, color = 'k')                            \n",
    "    \n",
    "\n",
    "    plt.xlabel('Pixel value')                                                   \n",
    "    plt.ylabel('Counts')                                                        \n",
    "    plt.title('Grayscale Histogram')"
   ]
  },
  {
   "cell_type": "code",
   "execution_count": null,
   "metadata": {},
   "outputs": [],
   "source": [
    "for name, image in blurred_dishes.items():\n",
    "    plot_histogram(image)\n",
    "    plt.title(name)"
   ]
  },
  {
   "cell_type": "code",
   "execution_count": null,
   "metadata": {},
   "outputs": [],
   "source": [
    "# create the masks\n",
    "# as in episode 07, the colonies are \n",
    "# at the far left end of the histogram\n",
    "\n",
    "dish_masks = {}\n",
    "thresh = 0.1\n",
    "for name, image in blurred_dishes.items():\n",
    "    mask = image < thresh\n",
    "    dish_masks[name] = mask\n",
    "    \n",
    "    # generate plots for visual inspection\n",
    "    plt.figure(figsize = (10,10))\n",
    "    plt.imshow(mask, cmap = 'gray')\n",
    "    plt.title(name)"
   ]
  },
  {
   "cell_type": "code",
   "execution_count": null,
   "metadata": {},
   "outputs": [],
   "source": [
    "# run a CCA on the mask\n",
    "from skimage.morphology import label\n",
    "label_arrays = {}\n",
    "for name, mask in dish_masks.items():\n",
    "    \n",
    "    label_arr = label(mask)\n",
    "    label_arrays[name] = label_arr\n",
    "    \n",
    "    # generate plots for visual inspection\n",
    "    plt.figure(figsize = (10,10))\n",
    "    plt.imshow(label_arr, cmap = 'cividis')\n",
    "    plt.title(name)"
   ]
  },
  {
   "cell_type": "code",
   "execution_count": null,
   "metadata": {},
   "outputs": [],
   "source": [
    "# count the number of unique labels\n",
    "# -> get the number of colonies\n",
    "for name, label_arr in label_arrays.items():\n",
    "    \n",
    "    Ncolonies = label_arr.max()\n",
    "    print(f'{name} has {Ncolonies} colonies')\n"
   ]
  },
  {
   "cell_type": "code",
   "execution_count": null,
   "metadata": {},
   "outputs": [],
   "source": [
    "# create the overlays\n",
    "from skimage.color import label2rgb\n",
    "\n",
    "for name in label_arrays.keys():\n",
    "    image = blurred_dishes[name]\n",
    "    label = label_arrays[name]\n",
    "    \n",
    "    # skimage.color.label2rgb takes bg_label = -1 as default, however \n",
    "    # skimage.morphology.label (CCA) returns bg_label = 0!\n",
    "    overlay = label2rgb(label, image, alpha = 0.5, bg_label = 0)\n",
    "\n",
    "    plt.figure(figsize = (10,10))\n",
    "    plt.imshow(overlay)\n",
    "    plt.title(name)"
   ]
  },
  {
   "cell_type": "code",
   "execution_count": null,
   "metadata": {},
   "outputs": [],
   "source": [
    "# BONUS task solution\n",
    "# Dish 1 yields no meaningful statistics..\n",
    "\n",
    "# collection of sizes per dish\n",
    "col_sizes = {}\n",
    "\n",
    "for name, label_arr in label_arrays.items():\n",
    "    \n",
    "    # the sizes per colony\n",
    "    sizes = []\n",
    "    labels = np.unique(label_arr)\n",
    "    \n",
    "    # exclude first value -> background label\n",
    "    for label in labels[1:]:\n",
    "        size = np.sum(label_arr == label)\n",
    "        sizes.append(size)\n",
    "        \n",
    "    col_sizes[name] = sizes\n",
    "\n",
    "\n",
    "plt.figure(figsize = (8,4))\n",
    "h = plt.hist(col_sizes.values(), density=True,\n",
    "             label=col_sizes.keys(),\n",
    "             range = (0,80), bins = 12,\n",
    "            color = ['orchid','olive','orange'])\n",
    "plt.legend()"
   ]
  },
  {
   "cell_type": "markdown",
   "metadata": {},
   "source": [
    "### Colorimetrics: titration color analysis\n",
    "\n",
    "The video showing the titration process first mentioned in the workshop \n",
    "_introduction_ episode can be found in the \n",
    "**/data/titration-movie** directory.\n",
    "Write a Python program that uses skimage to analyze the video on a\n",
    "frame-by-frame basis. Your program should do the following:\n",
    "\n",
    "1. Sample a ROI from the same location on each frame, and determine the \n",
    "\taverage red, green, and blue channel value.\n",
    "\n",
    "2. Display a graph plotting the average color channel values as a function of\n",
    "\tthe frame number, similar to this image:\n",
    "\n",
    "\t![Titration colors](../fig/00-colorimetric-result.png)\n",
    "\n",
    "3. Save the graph as an image named **titration.png**.\n",
    "\n",
    "4. Output a CSV file named **titration.csv**, with each line containing\n",
    "\tthe frame number, average red value, average green value, and average\n",
    "\tblue value\n",
    "    \n",
    "_Hint: The movie is given as an image sequence in `/data/titration-movie/image*.jpg`. Use `sorted( glob.glob(...) )` to crawl through the directory and read the images with `skimage.io`. Using a Pandas `DataFrame` to record the measurements might be a good idea, but no must._\n"
   ]
  },
  {
   "cell_type": "code",
   "execution_count": null,
   "metadata": {},
   "outputs": [],
   "source": [
    "# read the one image to determine coordinates\n",
    "import skimage.io\n",
    "import skimage.draw\n",
    "import numpy as np\n",
    "from skimage.viewer import ImageViewer\n",
    "\n",
    "import matplotlib.pyplot as plt                                                 \n",
    "# 'magic' to display plots in the jupyter notebook                              \n",
    "%matplotlib inline   \n",
    "\n",
    "image = skimage.io.imread('../data/titration-movie/350-image.jpg')\n",
    "# viewer = ImageViewer(image)\n",
    "# viewer.show()\n",
    "\n",
    "# select a rectangular ROI\n",
    "r0, c0 = 200, 250\n",
    "r1, c1 = 260, 370\n",
    "\n",
    "rr, cc = skimage.draw.rectangle(start = (r0,c0), end = (r1,c1) )\n",
    "\n",
    "# make sure we have the right spot\n",
    "mask = np.zeros_like(image)\n",
    "mask[rr,cc] = 255\n",
    "\n",
    "plt.imshow(image)\n",
    "plt.imshow(mask, alpha = 0.2)"
   ]
  },
  {
   "cell_type": "code",
   "execution_count": null,
   "metadata": {},
   "outputs": [],
   "source": [
    "# now load the image sequence and measure the three RGB channels\n",
    "# save the recorded values into a pandas.DataFrame\n",
    "from glob import glob\n",
    "import pandas as pd\n",
    "\n",
    "file_names = glob('../data/titration-movie/*image.jpg')\n",
    "file_names = sorted(file_names)\n",
    "Nframes = len(file_names)\n",
    "\n",
    "df = pd.DataFrame(columns = ['red', 'green', 'blue'], index = range(Nframes))\n",
    "rgb_to_ind = {'red' : 0, 'green' : 1, 'blue' : 2}\n",
    "\n",
    "for i,name in enumerate(file_names):\n",
    "    \n",
    "    image = skimage.io.imread(name)\n",
    "    \n",
    "    for color, ind in rgb_to_ind.items():\n",
    "        selection = image[rr,cc,ind]\n",
    "        # mean intensity of that channel\n",
    "        df.loc[i,color] = selection.mean()"
   ]
  },
  {
   "cell_type": "code",
   "execution_count": null,
   "metadata": {},
   "outputs": [],
   "source": [
    "# look at the nicely rendered DataFrame\n",
    "df"
   ]
  },
  {
   "cell_type": "code",
   "execution_count": null,
   "metadata": {},
   "outputs": [],
   "source": [
    "# now plot the result\n",
    "plt.figure(figsize = (8,4))\n",
    "plt.plot(df['red'], color = 'crimson', lw = 2, alpha = 0.8)\n",
    "plt.plot(df['green'], color = 'forestgreen', lw = 2, alpha = 0.8)\n",
    "plt.plot(df['blue'], color = 'cornflowerblue', lw = 2, alpha = 0.8)\n",
    "\n",
    "plt.xlabel('Frame')\n",
    "plt.ylabel('Color intensity')\n",
    "\n",
    "plt.savefig('../fig/00-colorimetric-result.png')"
   ]
  },
  {
   "cell_type": "code",
   "execution_count": null,
   "metadata": {},
   "outputs": [],
   "source": [
    "# save output\n",
    "df.to_csv('colorimetric-result.csv', sep = ',', index_label = 'frame')"
   ]
  },
  {
   "cell_type": "code",
   "execution_count": null,
   "metadata": {},
   "outputs": [],
   "source": []
  }
 ],
 "metadata": {
  "kernelspec": {
   "display_name": "Python 3",
   "language": "python",
   "name": "python3"
  },
  "language_info": {
   "codemirror_mode": {
    "name": "ipython",
    "version": 3
   },
   "file_extension": ".py",
   "mimetype": "text/x-python",
   "name": "python",
   "nbconvert_exporter": "python",
   "pygments_lexer": "ipython3",
   "version": "3.7.6"
  }
 },
 "nbformat": 4,
 "nbformat_minor": 4
}
