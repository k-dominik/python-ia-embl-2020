{
 "cells": [
  {
   "cell_type": "markdown",
   "metadata": {},
   "source": [
    "# 4. Drawing and Masking"
   ]
  },
  {
   "cell_type": "markdown",
   "metadata": {},
   "source": [
    "### Get coordinates of region of interest (ROI)"
   ]
  },
  {
   "cell_type": "code",
   "execution_count": null,
   "metadata": {},
   "outputs": [],
   "source": [
    "# imports..\n",
    "import skimage\n",
    "from skimage.viewer import ImageViewer\n",
    "import numpy as np"
   ]
  },
  {
   "cell_type": "code",
   "execution_count": null,
   "metadata": {},
   "outputs": [],
   "source": [
    "img = skimage.io.imread('../data/maize-roots.tif')"
   ]
  },
  {
   "cell_type": "code",
   "execution_count": null,
   "metadata": {},
   "outputs": [],
   "source": [
    "viewer = ImageViewer(img)"
   ]
  },
  {
   "cell_type": "code",
   "execution_count": null,
   "metadata": {},
   "outputs": [],
   "source": [
    "viewer.show()"
   ]
  },
  {
   "cell_type": "markdown",
   "metadata": {},
   "source": [
    "### Creating the Mask"
   ]
  },
  {
   "cell_type": "code",
   "execution_count": null,
   "metadata": {},
   "outputs": [],
   "source": [
    "# boolean array\n",
    "mask = np.ones(shape=img.shape[:2], dtype=\"bool\")"
   ]
  },
  {
   "cell_type": "code",
   "execution_count": null,
   "metadata": {},
   "outputs": [],
   "source": [
    "# get coordinates of region to unmask\n",
    "rr, cc = skimage.draw.rectangle(start=(357, 44), end=(740, 720))"
   ]
  },
  {
   "cell_type": "code",
   "execution_count": null,
   "metadata": {},
   "outputs": [],
   "source": [
    "viewer = ImageViewer(mask)\n",
    "viewer.show()"
   ]
  },
  {
   "cell_type": "markdown",
   "metadata": {},
   "source": [
    "### Exercise: Drawing Practice\n",
    "\n",
    "Play around with the different draw methods skimage provides:\n",
    "* skimage.draw.circle\n",
    "* skimage.draw.line\n",
    "* skimage.draw.polygon\n",
    "* ...\n",
    "\n",
    "Draw a few different shapes in different colors onto a canvas."
   ]
  },
  {
   "cell_type": "code",
   "execution_count": 1,
   "metadata": {},
   "outputs": [],
   "source": [
    "%load ../exercises/04-DrawPractice.py"
   ]
  },
  {
   "cell_type": "code",
   "execution_count": null,
   "metadata": {},
   "outputs": [],
   "source": [
    "# display the results\n",
    "viewer = ImageViewer(image)\n",
    "viewer.show()"
   ]
  },
  {
   "cell_type": "markdown",
   "metadata": {},
   "source": [
    "#### Bonus Exercise 1: Drawing a Grid\n",
    "Use for-loops to iteratively draw an evenly spaced grid onto a grayscale image."
   ]
  },
  {
   "cell_type": "code",
   "execution_count": null,
   "metadata": {},
   "outputs": [],
   "source": [
    "rmax, cmax = 400,400\n",
    "step = 20\n",
    "canvas = np.zeros( (rmax, cmax), dtype = np.uint8)\n",
    "# vertical lines\n",
    "for c in np.arange(0, cmax, step):\n",
    "    rr, cc = skimage.draw.line(r0 = 0, c0 =  c, r1 = rmax-1, c1 = c)\n",
    "    canvas[rr,cc] = 255\n",
    "# horizontal lines\n",
    "for r in np.arange(0, rmax, step):\n",
    "    rr, cc = skimage.draw.line(r0 = r, c0 = 0, r1 = r, c1 = cmax-1)\n",
    "    canvas[rr,cc] = 255\n",
    "    \n",
    "viewer = ImageViewer(canvas)\n",
    "viewer.show()"
   ]
  },
  {
   "cell_type": "markdown",
   "metadata": {},
   "source": [
    "#### Bonus Exercise 2: Pretty Random\n",
    "Randomly place **N** (say 20..) randomly sized circles onto an image. \n",
    "_Hint: use np.random.randint to generate random coordinates and radii. Include a safety margin so that no circle reaches outside of the canvas and raises an IndexError._"
   ]
  },
  {
   "cell_type": "code",
   "execution_count": null,
   "metadata": {},
   "outputs": [],
   "source": [
    "# for better plotting\n",
    "import numpy as np\n",
    "import skimage\n",
    "%matplotlib inline\n",
    "import matplotlib.pyplot as plt\n",
    "\n",
    "rmax, cmax = 600,600\n",
    "Ncircles = 20\n",
    "canvas = np.zeros( (rmax, cmax), dtype = np.uint8)\n",
    "\n",
    "for i in range(Ncircles):\n",
    "    \n",
    "    # get random center coordinates\n",
    "    r0 = np.random.randint(0, rmax)\n",
    "    c0 = np.random.randint(0, cmax)\n",
    "    \n",
    "    # compute safety margin\n",
    "    max_r = min(r0, rmax - r0)\n",
    "    max_c = min(c0, cmax - c0)\n",
    "    rad_max = min(max_r, max_c)\n",
    "    \n",
    "    if rad_max < 2:                                                             \n",
    "        continue\n",
    "    \n",
    "    # get random radius\n",
    "    rad = np.random.randint(1, rad_max)\n",
    "    \n",
    "    # draw the circle\n",
    "    rr,cc = skimage.draw.circle(r0, c0, rad)\n",
    "    canvas[rr,cc] = 255\n",
    "\n",
    "plt.figure(figsize = (10,10))\n",
    "plt.imshow(canvas, cmap = 'gray')"
   ]
  },
  {
   "cell_type": "markdown",
   "metadata": {},
   "source": [
    "### Applying the Mask"
   ]
  },
  {
   "cell_type": "code",
   "execution_count": null,
   "metadata": {},
   "outputs": [],
   "source": [
    "# recreate the rectangular mask\n",
    "mask = np.ones(img.shape[:2], dtype = bool)\n",
    "rr,cc = skimage.draw.rectangle( start=(357, 44), end=(740, 720))\n",
    "mask[rr,cc] = False"
   ]
  },
  {
   "cell_type": "code",
   "execution_count": null,
   "metadata": {},
   "outputs": [],
   "source": [
    "# use boolean indexing to apply the mask\n",
    "img[mask] = 0"
   ]
  },
  {
   "cell_type": "code",
   "execution_count": null,
   "metadata": {},
   "outputs": [],
   "source": [
    "# show the masked image\n",
    "viewer = ImageViewer(img)\n",
    "viewer.show()"
   ]
  },
  {
   "cell_type": "markdown",
   "metadata": {},
   "source": [
    "### Exercise: Masking a 96-well plate image\n",
    "\n",
    "Given the well coordinates, create a mask with a circular region of interest for each well."
   ]
  },
  {
   "cell_type": "code",
   "execution_count": null,
   "metadata": {},
   "outputs": [],
   "source": [
    "%load ../exercises/04-MaskWellplate.py"
   ]
  },
  {
   "cell_type": "code",
   "execution_count": null,
   "metadata": {},
   "outputs": [],
   "source": [
    "# create empty mask\n",
    "mask = np.ones(image.shape[:2], dtype = bool)"
   ]
  },
  {
   "cell_type": "code",
   "execution_count": null,
   "metadata": {},
   "outputs": [],
   "source": [
    "# loop over coordinates\n",
    "for index in df.index:\n",
    "    \n",
    "    well = df.loc[index]\n",
    "    c = well['c']\n",
    "    r = well['r']\n",
    "    \n",
    "    rr,cc = skimage.draw.circle(r,c, radius = 15)\n",
    "    mask[rr,cc] = False\n",
    "    \n",
    "# apply the mask    \n",
    "image[mask] = 0\n",
    "# show result\n",
    "viewer = ImageViewer(image)\n",
    "viewer.show()"
   ]
  }
 ],
 "metadata": {
  "kernelspec": {
   "display_name": "Python 3",
   "language": "python",
   "name": "python3"
  },
  "language_info": {
   "codemirror_mode": {
    "name": "ipython",
    "version": 3
   },
   "file_extension": ".py",
   "mimetype": "text/x-python",
   "name": "python",
   "nbconvert_exporter": "python",
   "pygments_lexer": "ipython3",
   "version": "3.6.9"
  }
 },
 "nbformat": 4,
 "nbformat_minor": 4
}
