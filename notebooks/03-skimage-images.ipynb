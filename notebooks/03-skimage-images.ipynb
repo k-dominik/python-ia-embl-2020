{
 "cells": [
  {
   "cell_type": "markdown",
   "metadata": {},
   "source": [
    "# Image representation in skimage"
   ]
  },
  {
   "cell_type": "markdown",
   "metadata": {},
   "source": [
    "### Reading images"
   ]
  },
  {
   "cell_type": "code",
   "execution_count": null,
   "metadata": {},
   "outputs": [],
   "source": []
  },
  {
   "cell_type": "code",
   "execution_count": null,
   "metadata": {},
   "outputs": [],
   "source": []
  },
  {
   "cell_type": "markdown",
   "metadata": {},
   "source": [
    "### Displaying images"
   ]
  },
  {
   "cell_type": "code",
   "execution_count": null,
   "metadata": {},
   "outputs": [],
   "source": []
  },
  {
   "cell_type": "code",
   "execution_count": null,
   "metadata": {},
   "outputs": [],
   "source": []
  },
  {
   "cell_type": "markdown",
   "metadata": {},
   "source": [
    "### Saving images"
   ]
  },
  {
   "cell_type": "code",
   "execution_count": null,
   "metadata": {},
   "outputs": [],
   "source": []
  },
  {
   "cell_type": "markdown",
   "metadata": {},
   "source": [
    "### Images are represented as NumPy arrays"
   ]
  },
  {
   "cell_type": "code",
   "execution_count": null,
   "metadata": {},
   "outputs": [],
   "source": []
  },
  {
   "cell_type": "code",
   "execution_count": null,
   "metadata": {},
   "outputs": [],
   "source": []
  },
  {
   "cell_type": "markdown",
   "metadata": {},
   "source": [
    "### Exercise: Resize an image you took on your phone\n",
    "\n",
    "* copy image from phone to the data folder\n",
    "* load the image\n",
    "* resize the image using `skimage.transform.resize()`\n",
    "* save the resized image"
   ]
  },
  {
   "cell_type": "code",
   "execution_count": null,
   "metadata": {},
   "outputs": [],
   "source": []
  },
  {
   "cell_type": "markdown",
   "metadata": {},
   "source": [
    "### Manipulating pixels"
   ]
  },
  {
   "cell_type": "markdown",
   "metadata": {},
   "source": [
    "#### ignore low intensity pixels"
   ]
  },
  {
   "cell_type": "code",
   "execution_count": null,
   "metadata": {},
   "outputs": [],
   "source": []
  },
  {
   "cell_type": "code",
   "execution_count": null,
   "metadata": {},
   "outputs": [],
   "source": []
  },
  {
   "cell_type": "markdown",
   "metadata": {},
   "source": [
    "### Exercise: Keeping only low intensity pixels\n",
    "\n",
    "* load the `../data/sudoku.png` image\n",
    "* show the original image\n",
    "* set pixels with values greater than 200 (white) to gray\n",
    "* show the modified image"
   ]
  },
  {
   "cell_type": "code",
   "execution_count": null,
   "metadata": {},
   "outputs": [],
   "source": []
  },
  {
   "cell_type": "markdown",
   "metadata": {},
   "source": [
    "### Converting color images to grayscale"
   ]
  },
  {
   "cell_type": "code",
   "execution_count": null,
   "metadata": {},
   "outputs": [],
   "source": []
  },
  {
   "cell_type": "code",
   "execution_count": null,
   "metadata": {},
   "outputs": [],
   "source": []
  },
  {
   "cell_type": "markdown",
   "metadata": {},
   "source": [
    "### Access via slicing"
   ]
  },
  {
   "cell_type": "code",
   "execution_count": null,
   "metadata": {},
   "outputs": [],
   "source": []
  },
  {
   "cell_type": "code",
   "execution_count": null,
   "metadata": {},
   "outputs": [],
   "source": []
  },
  {
   "cell_type": "markdown",
   "metadata": {},
   "source": [
    "### Exercise: Practicing with slices\n",
    "\n",
    "* Load the code in the cell below and modify the program to\n",
    "  * create,\n",
    "  * display, and\n",
    "  * save\n",
    " \n",
    " a sub-image containing only the plant and its roots. Use ImageJ to determine the bounds of the area you will extract using slicing."
   ]
  },
  {
   "cell_type": "code",
   "execution_count": null,
   "metadata": {},
   "outputs": [],
   "source": [
    "%load ../exercises/03-RootSlice.py"
   ]
  },
  {
   "cell_type": "code",
   "execution_count": null,
   "metadata": {},
   "outputs": [],
   "source": []
  },
  {
   "cell_type": "code",
   "execution_count": null,
   "metadata": {},
   "outputs": [],
   "source": []
  },
  {
   "cell_type": "markdown",
   "metadata": {},
   "source": [
    "### Exercise: Metadata\n",
    "\n",
    "Explore how `skimage` handles metadata.\n",
    "\n",
    "* Open the `maize-roots.tif` image in the `data` folder in Fiji. Look at the metadata by going to _Image -> Info_\n",
    "* read the image here and write out a copy to `maize-roots-copy.tif`, check out the metadata in Fiji agian.\n",
    "\n",
    "What happened to the metadata?"
   ]
  },
  {
   "cell_type": "code",
   "execution_count": null,
   "metadata": {},
   "outputs": [],
   "source": []
  },
  {
   "cell_type": "markdown",
   "metadata": {},
   "source": [
    "### Exercise: Data type\n",
    "\n",
    "* create a unsigned 16-bit numpy array where all pixels have the value `1`\n",
    "  Hint: you can specify the `dtype` argument to `numpy.ones((num_rows, num_colums), dtype=\"uint16\"`\n",
    "* set a rectangular region from rows `100:500` and colums `100:700` to the value `200`\n",
    "* set a rectangular region from rows `100:500` and colums `100:700` to the value `2 ** 14 + 10`\n",
    "* save this image as a tif file \"boring-uint16.tif\"\n",
    "* use the numpy function `.astype` to convert the image to unsigned 8 bit\n",
    "* skimage has functions to convert images from one datatype to the other. Use `skimage.img_as_ubyte` to convert the image to 8 bit unsigned integers.\n",
    "* save the converted image as a tif file \"boring-uint8.tif\"\n",
    "* save the converted image as a png file \"boring-uint8.png\""
   ]
  },
  {
   "cell_type": "code",
   "execution_count": null,
   "metadata": {},
   "outputs": [],
   "source": []
  },
  {
   "cell_type": "code",
   "execution_count": null,
   "metadata": {},
   "outputs": [],
   "source": []
  },
  {
   "cell_type": "code",
   "execution_count": null,
   "metadata": {},
   "outputs": [],
   "source": []
  },
  {
   "cell_type": "code",
   "execution_count": null,
   "metadata": {},
   "outputs": [],
   "source": []
  },
  {
   "cell_type": "code",
   "execution_count": null,
   "metadata": {},
   "outputs": [],
   "source": []
  },
  {
   "cell_type": "code",
   "execution_count": null,
   "metadata": {},
   "outputs": [],
   "source": []
  },
  {
   "cell_type": "markdown",
   "metadata": {},
   "source": [
    "### Exercise: Slicing and the colorimetric challenge\n",
    "\n",
    "* Consider the image `titration.tif` in the data directory\n",
    "* We want to sample the color channel values from an image of a solution. To make our graph more reliable, we will want to calculate a mean channel value over several pixels, rather than simply focusing on one pixel from the image."
   ]
  },
  {
   "cell_type": "code",
   "execution_count": null,
   "metadata": {},
   "outputs": [],
   "source": []
  },
  {
   "cell_type": "code",
   "execution_count": null,
   "metadata": {},
   "outputs": [],
   "source": []
  },
  {
   "cell_type": "code",
   "execution_count": null,
   "metadata": {},
   "outputs": [],
   "source": []
  },
  {
   "cell_type": "markdown",
   "metadata": {},
   "source": [
    "### Keypoints\n",
    "\n",
    "* skimage images are stored as three-dimensional NumPy arrays.\n",
    "* In skimage images, the red channel is specified first, then the green, then the blue, i.e. RGB.\n",
    "* Images are read from disk with the `skimage.io.imread()` function.\n",
    "* We create a window that automatically scales the displayed image with `skimage.viewer.ImageViewer()` and calling `view()` on the viewer object.\n",
    "* Color images can be transformed to grayscale using `skimage.color.rgb2gray()` or be read as grayscale directly by passing the argument `as_gray=True` to `skimage.io.imread()`.\n",
    "* We can resize images with the `skimage.transform.resize()` function.\n",
    "* NumPy array commands, like `img[img < 128] = 0`, and be used to manipulate the pixels of an image.\n",
    "* Array slicing can be used to extract sub-images or modify areas of images, e.g., `clip = img[60:150, 135:480, :]`.\n",
    "* Metadata is not retained when images are loaded as skimage images.\n"
   ]
  },
  {
   "cell_type": "code",
   "execution_count": null,
   "metadata": {},
   "outputs": [],
   "source": []
  },
  {
   "cell_type": "code",
   "execution_count": null,
   "metadata": {},
   "outputs": [],
   "source": []
  }
 ],
 "metadata": {
  "kernelspec": {
   "display_name": "Python 3",
   "language": "python",
   "name": "python3"
  },
  "language_info": {
   "codemirror_mode": {
    "name": "ipython",
    "version": 3
   },
   "file_extension": ".py",
   "mimetype": "text/x-python",
   "name": "python",
   "nbconvert_exporter": "python",
   "pygments_lexer": "ipython3",
   "version": "3.7.6"
  }
 },
 "nbformat": 4,
 "nbformat_minor": 4
}
