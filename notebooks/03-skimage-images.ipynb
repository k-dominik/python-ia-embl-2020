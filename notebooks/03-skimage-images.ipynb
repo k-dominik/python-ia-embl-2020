{
 "cells": [
  {
   "cell_type": "markdown",
   "metadata": {},
   "source": [
    "# Image representation in skimage"
   ]
  },
  {
   "cell_type": "markdown",
   "metadata": {},
   "source": [
    "### Reading images"
   ]
  },
  {
   "cell_type": "code",
   "execution_count": null,
   "metadata": {},
   "outputs": [],
   "source": [
    "from matplotlib import pyplot as plt\n",
    "import skimage.io"
   ]
  },
  {
   "cell_type": "code",
   "execution_count": null,
   "metadata": {},
   "outputs": [],
   "source": [
    "image = skimage.io.imread(fname=\"../data/chair.tif\")\n"
   ]
  },
  {
   "cell_type": "markdown",
   "metadata": {},
   "source": [
    "### Displaying images"
   ]
  },
  {
   "cell_type": "code",
   "execution_count": null,
   "metadata": {},
   "outputs": [],
   "source": [
    "import skimage.viewer"
   ]
  },
  {
   "cell_type": "code",
   "execution_count": null,
   "metadata": {},
   "outputs": [],
   "source": [
    "# display image\n",
    "viewer = skimage.viewer.ImageViewer(image)\n",
    "viewer.show()"
   ]
  },
  {
   "cell_type": "markdown",
   "metadata": {},
   "source": [
    "### Saving images"
   ]
  },
  {
   "cell_type": "code",
   "execution_count": null,
   "metadata": {},
   "outputs": [],
   "source": [
    "# save a new version in .png format\n",
    "skimage.io.imsave(fname=\"chair.png\", arr=image)"
   ]
  },
  {
   "cell_type": "markdown",
   "metadata": {},
   "source": [
    "### Images are represented as NumPy arrays"
   ]
  },
  {
   "cell_type": "code",
   "execution_count": null,
   "metadata": {},
   "outputs": [],
   "source": [
    "import numpy\n",
    "print(\"shape:\", image.shape, \"dtype:\", image.dtype)"
   ]
  },
  {
   "cell_type": "code",
   "execution_count": null,
   "metadata": {},
   "outputs": [],
   "source": [
    "print(\"min\", numpy.min(image), \"max\", numpy.max(image), \"mean\", numpy.mean(image))"
   ]
  },
  {
   "cell_type": "markdown",
   "metadata": {},
   "source": [
    "### Exercise: Resize an image you took on your phone\n",
    "\n",
    "* copy image from phone to the data folder\n",
    "* load the image\n",
    "* resize the image using `skimage.transform.resize()`\n",
    "* save the resized image"
   ]
  },
  {
   "cell_type": "code",
   "execution_count": null,
   "metadata": {},
   "outputs": [],
   "source": [
    "import skimage.transform\n",
    "\n",
    "# read in image\n",
    "image = skimage.io.imread(fname=\"../data/chair.tif\")\n",
    "\n",
    "# resize the image\n",
    "new_shape = (image.shape[0] // 16, image.shape[1] // 16, image.shape[2])\n",
    "small = skimage.transform.resize(image=image, output_shape=new_shape)\n",
    "\n",
    "# write out image\n",
    "skimage.io.imsave(fname=\"resized.tif\", arr=small)"
   ]
  },
  {
   "cell_type": "markdown",
   "metadata": {},
   "source": [
    "### Manipulating pixels"
   ]
  },
  {
   "cell_type": "markdown",
   "metadata": {},
   "source": [
    "#### ignore low intensity pixels"
   ]
  },
  {
   "cell_type": "code",
   "execution_count": null,
   "metadata": {},
   "outputs": [],
   "source": [
    "import skimage.io\n",
    "import skimage.viewer\n",
    "\n",
    "# read input image, based on filename parameter\n",
    "image = skimage.io.imread(\"../data/roots-bw.tif\", as_gray=True)\n",
    "\n",
    "# display original image\n",
    "viewer = skimage.viewer.ImageViewer(image)\n",
    "viewer.show()"
   ]
  },
  {
   "cell_type": "code",
   "execution_count": null,
   "metadata": {},
   "outputs": [],
   "source": [
    "# keep only high-intensity pixels\n",
    "image[image < 128] = 0\n",
    "\n",
    "# display modified image\n",
    "viewer = skimage.viewer.ImageViewer(image)\n",
    "viewer.show()"
   ]
  },
  {
   "cell_type": "markdown",
   "metadata": {},
   "source": [
    "### Exercise: Keeping only low intensity pixels\n",
    "\n",
    "* load the `../data/sudoku.png` image\n",
    "* show the original image\n",
    "* set pixels with values greater than 200 (white) to gray\n",
    "* show the modified image"
   ]
  },
  {
   "cell_type": "code",
   "execution_count": null,
   "metadata": {},
   "outputs": [],
   "source": [
    "import skimage.io\n",
    "import skimage.viewer\n",
    "\n",
    "# read input image, based on filename parameter\n",
    "image = skimage.io.imread(\"../data/sudoku.png\", as_gray=True)\n",
    "\n",
    "# display original image\n",
    "viewer = skimage.viewer.ImageViewer(image)\n",
    "viewer.show()\n",
    "\n",
    "# keep only high-intensity pixels\n",
    "image[image > 128] = 64\n",
    "\n",
    "# display modified image\n",
    "viewer = skimage.viewer.ImageViewer(image)\n",
    "viewer.show()"
   ]
  },
  {
   "cell_type": "markdown",
   "metadata": {},
   "source": [
    "### Converting color images to grayscale"
   ]
  },
  {
   "cell_type": "code",
   "execution_count": null,
   "metadata": {},
   "outputs": [],
   "source": [
    "# read input image, based on filename parameter\n",
    "image = skimage.io.imread(\"../data/chair.tif\")\n",
    "\n",
    "# display original image\n",
    "viewer = skimage.viewer.ImageViewer(image)\n",
    "viewer.show()\n",
    "\n",
    "# convert to grayscale and display\n",
    "gray_image = skimage.color.rgb2gray(image)\n",
    "viewer = skimage.viewer.ImageViewer(gray_image)\n",
    "viewer.show()"
   ]
  },
  {
   "cell_type": "code",
   "execution_count": null,
   "metadata": {},
   "outputs": [],
   "source": [
    "# read input image, based on filename parameter\n",
    "image = skimage.io.imread(\"../data/chair.tif\", as_gray=True)\n",
    "\n",
    "# display grayscale image\n",
    "viewer = skimage.viewer.ImageViewer(image)\n",
    "viewer.show()"
   ]
  },
  {
   "cell_type": "markdown",
   "metadata": {},
   "source": [
    "### Access via slicing"
   ]
  },
  {
   "cell_type": "code",
   "execution_count": null,
   "metadata": {},
   "outputs": [],
   "source": [
    "image = skimage.io.imread(\"../data/roots.tif\")\n",
    "\n",
    "clip = image[1600:1900, 1700:2200, :]\n",
    "\n",
    "# display grayscale image\n",
    "viewer = skimage.viewer.ImageViewer(clip)\n",
    "viewer.show()"
   ]
  },
  {
   "cell_type": "code",
   "execution_count": null,
   "metadata": {},
   "outputs": [],
   "source": [
    "color = image[1800, 1900]\n",
    "print(color)\n",
    "image[1600:1900, 1700:2200] = color\n",
    "viewer = skimage.viewer.ImageViewer(image)\n",
    "viewer.show()"
   ]
  },
  {
   "cell_type": "markdown",
   "metadata": {},
   "source": [
    "### Exercise: Practicing with slices\n",
    "\n",
    "* Load the code in the cell below and modify the program to\n",
    "  * create,\n",
    "  * display, and\n",
    "  * save\n",
    " \n",
    " a sub-image containing only the plant and its roots. Use ImageJ to determine the bounds of the area you will extract using slicing."
   ]
  },
  {
   "cell_type": "code",
   "execution_count": null,
   "metadata": {},
   "outputs": [],
   "source": [
    "# %load ../exercises/03-RootSlice.py\n",
    "import skimage.io\n",
    "import skimage.viewer\n",
    "\n",
    "# load and display original image\n",
    "image = skimage.io.imread(fname=\"../data/roots.tif\")\n",
    "viewer = skimage.viewer.ImageViewer(image)\n",
    "viewer.show()\n",
    "\n",
    "# extract, display, and save sub-image\n",
    "# WRITE YOUR CODE TO SELECT THE SUBIMAGE NAME clip HERE:\n",
    "clip = image[:, 1400:2500, :]\n",
    "\n",
    "viewer = skimage.viewer.ImageViewer(clip)\n",
    "viewer.show()\n",
    "\n",
    "# WRITE YOUR CODE TO SAVE clip HERE\n",
    "skimage.io.imsave(\"roots-clip.tif\", arr=clip)"
   ]
  },
  {
   "cell_type": "markdown",
   "metadata": {},
   "source": [
    "### Exercise: Metadata\n",
    "\n",
    "Explore how `skimage` handles metadata.\n",
    "\n",
    "* Open the `maize-roots.tif` image in the `data` folder in Fiji. Look at the metadata by going to _Image -> Info_\n",
    "* read the image here and write out a copy to `maize-roots-copy.tif`, check out the metadata in Fiji agian.\n",
    "\n",
    "What happened to the metadata?"
   ]
  },
  {
   "cell_type": "code",
   "execution_count": null,
   "metadata": {},
   "outputs": [],
   "source": [
    "image = skimage.io.imread(\"../data/maize-roots.tif\")\n",
    "skimage.io.imsave(\"maize-roots-copy.tif\", arr=image)"
   ]
  },
  {
   "cell_type": "markdown",
   "metadata": {},
   "source": [
    "### Exercise: Slicing and the colorimetric challenge\n",
    "\n",
    "* Consider the image `titration.tif` in the data directory\n",
    "* We want to sample the color channel values from an image of a solution. To make our graph more reliable, we will want to calculate a mean channel value over several pixels, rather than simply focusing on one pixel from the image."
   ]
  },
  {
   "cell_type": "code",
   "execution_count": null,
   "metadata": {},
   "outputs": [],
   "source": [
    "image = skimage.io.imread(\"../data/titration.tif\")\n",
    "print(image.shape)\n",
    "roi = image[200:260, 255:400]\n",
    "mean = numpy.mean(roi, axis=(0, 1))\n",
    "for i, chan in enumerate([\"r\", \"g\", \"b\"]):\n",
    "    print(\"average for\", chan, numpy.mean(roi[:, :, i]))"
   ]
  },
  {
   "cell_type": "code",
   "execution_count": null,
   "metadata": {},
   "outputs": [],
   "source": []
  },
  {
   "cell_type": "code",
   "execution_count": null,
   "metadata": {},
   "outputs": [],
   "source": []
  },
  {
   "cell_type": "markdown",
   "metadata": {},
   "source": [
    "### Keypoints\n",
    "\n",
    "* skimage images are stored as three-dimensional NumPy arrays.\n",
    "* In skimage images, the red channel is specified first, then the green, then the blue, i.e. RGB.\n",
    "* Images are read from disk with the `skimage.io.imread()` function.\n",
    "* We create a window that automatically scales the displayed image with `skimage.viewer.ImageViewer()` and calling `view()` on the viewer object.\n",
    "* Color images can be transformed to grayscale using `skimage.color.rgb2gray()` or be read as grayscale directly by passing the argument `as_gray=True` to `skimage.io.imread()`.\n",
    "* We can resize images with the `skimage.transform.resize()` function.\n",
    "* NumPy array commands, like `img[img < 128] = 0`, and be used to manipulate the pixels of an image.\n",
    "* Array slicing can be used to extract sub-images or modify areas of images, e.g., `clip = img[60:150, 135:480, :]`.\n",
    "* Metadata is not retained when images are loaded as skimage images.\n"
   ]
  },
  {
   "cell_type": "code",
   "execution_count": null,
   "metadata": {},
   "outputs": [],
   "source": []
  }
 ],
 "metadata": {
  "kernelspec": {
   "display_name": "Python 3",
   "language": "python",
   "name": "python3"
  },
  "language_info": {
   "codemirror_mode": {
    "name": "ipython",
    "version": 3
   },
   "file_extension": ".py",
   "mimetype": "text/x-python",
   "name": "python",
   "nbconvert_exporter": "python",
   "pygments_lexer": "ipython3",
   "version": "3.7.6"
  }
 },
 "nbformat": 4,
 "nbformat_minor": 4
}
