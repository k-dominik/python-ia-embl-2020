{
 "cells": [
  {
   "cell_type": "markdown",
   "metadata": {},
   "source": [
    "# Creating Histograms"
   ]
  },
  {
   "cell_type": "markdown",
   "metadata": {},
   "source": [
    "In general, as you might already know, a histogram is a basic method for representing a statistical distribution. As it pertains to images, a histogram is a graphical representation showing how frequently various color values occur in the image. If your project involves detecting color changes between images, histograms will prove to be very useful, and histograms are also quite handy as a preparatory step before performing thresholding."
   ]
  },
  {
   "cell_type": "markdown",
   "metadata": {},
   "source": [
    "### Grayscale Histograms"
   ]
  },
  {
   "cell_type": "code",
   "execution_count": null,
   "metadata": {},
   "outputs": [],
   "source": [
    "# import needed libraries\n",
    "import skimage\n",
    "import numpy as np\n",
    "from skimage.viewer import ImageViewer\n",
    "\n",
    "img = skimage.io.imread('../data/seedling.tif', as_gray = True)"
   ]
  },
  {
   "cell_type": "markdown",
   "metadata": {},
   "source": [
    "To plot the histogram we make use of the standard scientific plotting libray in python: matplotlib. This also allows us to directly (but non-interactively) plot the image within the notebook."
   ]
  },
  {
   "cell_type": "code",
   "execution_count": null,
   "metadata": {},
   "outputs": [],
   "source": [
    "import matplotlib.pyplot as plt\n",
    "# 'magic' to display plots in the jupyter notebook\n",
    "%matplotlib inline \n",
    "\n",
    "plt.imshow(img, cmap = 'gray')"
   ]
  },
  {
   "cell_type": "code",
   "execution_count": null,
   "metadata": {},
   "outputs": [],
   "source": [
    "# create the histogram\n",
    "histogram, bin_edges = np.histogram(img, bins=256, range=(0, 1))"
   ]
  },
  {
   "cell_type": "code",
   "execution_count": null,
   "metadata": {},
   "outputs": [],
   "source": [
    "# plot the histogram\n",
    "f = plt.figure()\n",
    "plt.plot(bin_edges[:-1], histogram)\n",
    "plt.xlabel('grayscale value')\n",
    "plt.ylabel('counts')"
   ]
  },
  {
   "cell_type": "markdown",
   "metadata": {},
   "source": [
    "### Exercise: Mask the Seedling\n",
    "\n",
    "The image contains largely the dark and uninformative background pixels. Similar to what we did with the maize roots, define and apply a rectangular mask around the seedling to limit our analysis to the region of interest. Then repeat the steps above to calculate and plot the histogram only for the pixels in the region of interest. \n",
    "\n",
    "_Hint: Use np.logical_not to invert the mask and select the pixel values inside the rectangle for the computation of the histogram_."
   ]
  },
  {
   "cell_type": "code",
   "execution_count": null,
   "metadata": {},
   "outputs": [],
   "source": [
    "%load ../exercises/05-MaskSeedling.py"
   ]
  },
  {
   "cell_type": "code",
   "execution_count": null,
   "metadata": {},
   "outputs": [],
   "source": [
    "mask = np.ones(image.shape, dtype = bool)\n",
    "rr,cc = skimage.draw.rectangle(start =  (200,410), end = (400,500))\n",
    "mask[rr,cc] = False\n",
    "mask_i = np.logical_not(mask)\n",
    "\n",
    "histogram, bin_edges = np.histogram(image[mask_i], bins=256, range=(0, 1))\n",
    "\n",
    "plt.plot(bin_edges[:-1], histogram)\n",
    "plt.xlabel('grayscale value')\n",
    "plt.ylabel('counts')"
   ]
  },
  {
   "cell_type": "code",
   "execution_count": null,
   "metadata": {},
   "outputs": [],
   "source": [
    "plt.imshow(image[rr,cc].T, cmap = 'gray')"
   ]
  },
  {
   "cell_type": "markdown",
   "metadata": {},
   "source": [
    "### Color Histograms"
   ]
  },
  {
   "cell_type": "markdown",
   "metadata": {},
   "source": [
    "We can also create histograms for full color images, in addition to grayscale histograms. For RGB images this will give three distinct distributions, one for each RGB component. The same strategy can also be applied if you have say two (or more) different fluorescent channels."
   ]
  },
  {
   "cell_type": "code",
   "execution_count": null,
   "metadata": {},
   "outputs": [],
   "source": [
    "imageRGB = skimage.io.imread('../data/seedling.tif')\n",
    "plt.imshow(imageRGB)\n",
    "plt.imshow(mask_i, alpha = 0.6, cmap = 'gray')"
   ]
  },
  {
   "cell_type": "code",
   "execution_count": null,
   "metadata": {},
   "outputs": [],
   "source": [
    "# map channel names to array indices\n",
    "chan_to_ind = {'red' : 0, 'green' : 1, 'blue' : 2}\n",
    "\n",
    "plt.figure(figsize = (10,4))\n",
    "for channel_name in chan_to_ind:\n",
    "    ind = chan_to_ind[channel_name]\n",
    "    channel = imageRGB[...,ind]\n",
    "    histogram, bin_edges = np.histogram(channel[mask_i], bins = 256, range = (0,256))\n",
    "    plt.plot(bin_edges[:-1], histogram, color = channel_name, label = channel_name)\n",
    "    \n",
    "plt.xlabel('Color value')\n",
    "plt.ylabel('Counts')\n",
    "plt.title('Color Histogram')\n",
    "plt.legend()"
   ]
  },
  {
   "cell_type": "markdown",
   "metadata": {},
   "source": [
    "### Exercise: Color Histogram with a Mask"
   ]
  },
  {
   "cell_type": "markdown",
   "metadata": {},
   "source": [
    "We can also apply a mask to the images we apply the color histogram process to, in the same way we did for grayscale histograms. Consider this image of a well plate, where various chemical sensors have been applied to water and various concentrations of hydrochloric acid and sodium hydroxide:\n",
    "![title](../fig/05-well-plate.jpg)"
   ]
  },
  {
   "cell_type": "markdown",
   "metadata": {},
   "source": [
    "Suppose we are interested in the color histogram of one of the sensors in the well plate image, specifically, the seventh well from the left in the topmost row, which shows Erythrosin B reacting with water.\n",
    "\n",
    "* As we did before, determine the center coordinates of the well of interest\n",
    "* Use the appropriate skimage.draw method to define a circular region of interest\n",
    "* Use this ROI to define an appropriate mask\n",
    "* As an intermediate result plot the masked image, it should only be non-zero around the well we are interested in\n",
    "* Use the circular mask to apply the color histogram operation to that well"
   ]
  },
  {
   "cell_type": "code",
   "execution_count": null,
   "metadata": {},
   "outputs": [],
   "source": [
    "%load ../exercises/05-ColorHistogramMask.py"
   ]
  },
  {
   "cell_type": "markdown",
   "metadata": {},
   "source": [
    "### Exercise: Histograms for the morphometrics challenge\n",
    "\n",
    "Using the grayscale and color histogram programs we developed in this episode, create histograms for the bacteria colony images in the ../data directory:\n",
    "* colonies01.tif\n",
    "* colonies02.tif\n",
    "* colonies03.tif\n",
    "\n",
    "Save the histograms for later use. \n",
    "\n",
    "_Hint: You might want to write two functions like 'plot_hist' and 'plot_histRGB' which take an input file path as argument and plot the respective histograms._"
   ]
  },
  {
   "cell_type": "code",
   "execution_count": null,
   "metadata": {},
   "outputs": [],
   "source": [
    "def plot_hist(img_path):\n",
    "    '''\n",
    "    Plots the grayscale histogram of the image at *img_path*\n",
    "    '''\n",
    "    img = skimage.io.imread(img_path, as_gray = True)\n",
    "    histogram, bin_edges = np.histogram(img, bins = 256, range = (0,1))\n",
    "    \n",
    "    plt.plot(bin_edges[:-1], histogram, color = 'k')\n",
    "    plt.xlabel('Pixel value')\n",
    "    plt.ylabel('Counts')\n",
    "    plt.title('Grayscale Histogram')"
   ]
  },
  {
   "cell_type": "code",
   "execution_count": null,
   "metadata": {},
   "outputs": [],
   "source": [
    "plot_hist('../data/colonies01.tif')"
   ]
  },
  {
   "cell_type": "code",
   "execution_count": null,
   "metadata": {},
   "outputs": [],
   "source": [
    "def plot_histRGB(img_path):\n",
    "    '''\n",
    "    Plots the color histogram of the image at *img_path*\n",
    "    '''\n",
    "    # map channel names to array indices\n",
    "    chan_to_ind = {'red' : 0, 'green' : 1, 'blue' : 2}\n",
    "    \n",
    "    img = skimage.io.imread(img_path)\n",
    "    \n",
    "    for channel in chan_to_ind:\n",
    "        ind = chan_to_ind[channel]\n",
    "        histogram, bin_edges = np.histogram(img[...,ind], bins = 256, range = (0,256))\n",
    "    \n",
    "        plt.plot(bin_edges[:-1], histogram, color = channel, label = channel)\n",
    "        \n",
    "    plt.xlabel('Color value')\n",
    "    plt.ylabel('Counts')\n",
    "    plt.title('Color Histogram')\n",
    "    plt.legend()"
   ]
  },
  {
   "cell_type": "code",
   "execution_count": null,
   "metadata": {},
   "outputs": [],
   "source": [
    "plot_histRGB('../data/colonies02.tif')"
   ]
  }
 ],
 "metadata": {
  "kernelspec": {
   "display_name": "Python 3",
   "language": "python",
   "name": "python3"
  },
  "language_info": {
   "codemirror_mode": {
    "name": "ipython",
    "version": 3
   },
   "file_extension": ".py",
   "mimetype": "text/x-python",
   "name": "python",
   "nbconvert_exporter": "python",
   "pygments_lexer": "ipython3",
   "version": "3.7.6"
  }
 },
 "nbformat": 4,
 "nbformat_minor": 4
}
