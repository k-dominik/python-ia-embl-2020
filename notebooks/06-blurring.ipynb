{
 "cells": [
  {
   "cell_type": "markdown",
   "metadata": {},
   "source": [
    "# Gaussian Blur\n",
    "\n",
    "In this episode, we will learn how to use skimage functions to blur images. When we blur an image, we make the color transition from one side of an edge in the image to another smooth rather than sudden. The effect is to average out rapid changes in pixel intensity. The blur, or smoothing, of an image removes \"outlier\" pixels that may be noise in the image. Blurring is an example of applying a low-pass filter to an image. In computer vision, the term \"low-pass filter\" applies to removing noise from an image while leaving the majority of the image intact. A blur is a very common operation we need to perform before other tasks such as edge detection. There are several different blurring functions in the skimage.filters module, so we will focus on just one here, the Gaussian blur.\n",
    "\n",
    "--------\n",
    "\n",
    "Consider this image of a cat, in particular the area of the image outlined by the white square.\n",
    "\n",
    "![Cat Snap](../fig/06-cat-snap.jpg)\n",
    "\n",
    "Now, we zoom in on the area of the cat's eye, as shown in the left-hand image below. When we apply a blur filter, we consider each pixel in the image, one at a time. In this example, the pixel we are applying the filter to is highlighted in red, as shown in the right-hand image.\n",
    "\n",
    "![Cat eye pixels](../fig/06-cat-eye-pixels.jpg)\n",
    "\n",
    "In a blur, we consider a rectangular group of pixels surrounding\n",
    "the pixel to filter. This group of pixels, called the *kernel*, moves along\n",
    "with the pixel that is being filtered. So that the filter pixel is always\n",
    "in the center of the kernel, the width and height of the kernel must be odd. \n",
    "In the example shown above, the kernel is square, with a dimension of seven \n",
    "pixels. \n",
    "\n",
    "To apply this filter to the current pixel, a weighted average of the the \n",
    "color values of the pixels in the kernel is calculated. In a Gaussian blur,\n",
    "the pixels nearest the center of the kernel are given more weight than those\n",
    "far away from the center. This averaging is done on a channel-by-channel basis, \n",
    "and the average channel values become the new value for the filtered pixel. \n",
    "Larger kernels have more values factored into the average, and this implies \n",
    "that a larger kernel will blur the image more than a smaller kernel. \n",
    "\n",
    "To get an idea of how this works, consider this plot of the two-dimensional \n",
    "Gaussian function: \n",
    "\n",
    "![2D Gaussian function](../fig/06-gaussian-plot.png)\n",
    "\n",
    "Imagine that plot overlaid over the kernel for the Gaussian blur filter. The\n",
    "height of the plot corresponds to the weight given to the underlying pixel in\n",
    "the kernel. I.e., the pixels close to the center become more important to the \n",
    "filtered pixel color than the pixels close to the edge of the kernel.\n",
    "The shape of the Gaussian function is controlled via its standard deviation, or\n",
    "sigma. A large sigma value results in a flatter shape, while a smaller sigma\n",
    "value results in a more pronounced peak. The mathematics involved in the\n",
    "Gaussian blur filter are not quite that simple, but this explanation gives you\n",
    "the basic idea.\n",
    "\n",
    "To illustrate the blur process, consider the blue channel color values from the\n",
    "seven-by-seven kernel illustrated above: \n",
    "\n",
    "~~~\n",
    "68  82 71 62 100  98  61 \n",
    "90  67 74 78  91  85  77 \n",
    "50  53 78 82  72  95 100 \n",
    "87  89 83 86 100 116 128 \n",
    "89 108 86 78  92  75 100 \n",
    "90  83 89 73  68  29  18 \n",
    "77 102 70 57  30  30  50\n",
    "~~~\n",
    "\n",
    "The filter is going to determine the new blue channel value for the center\n",
    "pixel -- the one that currently has the value 86. The filter calculates a \n",
    "weighted average of all the blue channel values in the kernel, {76, 83, 81,\n",
    "..., 39, 53, 68}, giving higher weight to the pixels near the center of the \n",
    "kernel. This weighted average would be the new value for the center pixel. \n",
    "The same process would be used to determine the green and red channel\n",
    "values, and then the kernel would be moved over to apply the filter to the next\n",
    "pixel in the image. \n",
    "\n",
    "Something different needs to happen for pixels near the edge of the image, \n",
    "since the kernel for the filter may be partially off the image. For example, \n",
    "what happens when the filter is applied to the upper-left pixel of the image? \n",
    "Here are the blue channel pixel values for the upper-left pixel of the cat \n",
    "image, again assuming a seven-by-seven kernel:\n",
    "\n",
    "~~~\n",
    "  x   x   x   x   x   x   x\n",
    "  x   x   x   x   x   x   x\n",
    "  x   x   x   x   x   x   x\n",
    "  x   x   x   4   5   9   2 \n",
    "  x   x   x   5   3   6   7 \n",
    "  x   x   x   6   5   7   8 \n",
    "  x   x   x   5   4   5   3 \n",
    "~~~\n",
    "\n",
    "The upper-left pixel is the one with value 4. Since the pixel is at the \n",
    "upper-left corner. there are no pixels underneath much of the kernel;\n",
    "here, this is represented by x's. So, what does the filter do in that \n",
    "situation?\n",
    "\n",
    "The default mode is to fill in the *nearest* pixel value from the image. For\n",
    "each of the missing x's the image value closest to the x is used:\n",
    "\n",
    "~~~\n",
    "  x   x   x   4   x   x   x\n",
    "  x   x   x   4   x   x   x\n",
    "  x   x   x   4   x   x   x\n",
    "  4   4   4   4   5   9   2\n",
    "  x   x   x   5   3   6   7\n",
    "  x   x   x   6   5   7   8\n",
    "  x   x   x   5   4   5   3\n",
    "~~~\n",
    "\n",
    "Another strategy to fill those missing values is to *reflect* the pixels that\n",
    "are in the image to fill in for the pixels that are missing from the kernel. If\n",
    "we fill in a few of the missing pixels, you will see how this works:\n",
    "\n",
    "~~~\n",
    "  x   x   x   5   x   x   x\n",
    "  x   x   x   6   x   x   x\n",
    "  x   x   x   5   x   x   x\n",
    "  2   9   5   4   5   9   2 \n",
    "  x   x   x   5   3   6   7 \n",
    "  x   x   x   6   5   7   8 \n",
    "  x   x   x   5   4   5   3 \n",
    "~~~\n",
    "\n",
    "A similar process would be used to fill in all of the other missing pixels from\n",
    "the kernel. Other *border modes* are available; you can learn more about them\n",
    "in the [skimage documentation](https://scikit-image.org/docs/dev/user_guide). \n",
    "\n",
    "This animation shows how the blur kernel moves along in the original image in \n",
    "order to calculate the color channel values for the blurred image.\n",
    "\n",
    "![Blur demo animation](../fig/06-blur-demo.gif)\n",
    "\n",
    "skimage has built-in functions to perform blurring for us, so we do not have to \n",
    "perform all of these mathematical operations ourselves.\n"
   ]
  },
  {
   "cell_type": "markdown",
   "metadata": {},
   "source": [
    "### Gaussian Blur with skimage"
   ]
  },
  {
   "cell_type": "code",
   "execution_count": null,
   "metadata": {},
   "outputs": [],
   "source": []
  },
  {
   "cell_type": "markdown",
   "metadata": {},
   "source": [
    "### Exercise: Experimenting with sigma values\n",
    "\n",
    "Use different Kernel widths and observe the effect of the filter on the image. Assess by eye the size of the different features in the image (lines, text, blue circle) and try to link the sigma values you use with the effect on each of these features.\n",
    "\n",
    "_Hint: You can use the slice operator to manually 'zoom in' onto the different features of the image and assess their size in pixels respectively, e.g. plt.imshow( original[:10,:20] ) let's you inspect the widths of the lines._"
   ]
  },
  {
   "cell_type": "code",
   "execution_count": null,
   "metadata": {},
   "outputs": [],
   "source": [
    "%load ../exercises/06-GaussianBlur.py"
   ]
  },
  {
   "cell_type": "code",
   "execution_count": null,
   "metadata": {},
   "outputs": [],
   "source": []
  },
  {
   "cell_type": "code",
   "execution_count": null,
   "metadata": {},
   "outputs": [],
   "source": []
  },
  {
   "cell_type": "code",
   "execution_count": null,
   "metadata": {},
   "outputs": [],
   "source": []
  },
  {
   "cell_type": "code",
   "execution_count": null,
   "metadata": {},
   "outputs": [],
   "source": []
  },
  {
   "cell_type": "markdown",
   "metadata": {},
   "source": [
    "### Other methods of blurring\n",
    "\n",
    "The Gaussian blur is a way to apply a low-pass filter in skimage. It is often used to remove Gaussian (i. e., random) noise from the image. For other kinds of noise, e.g. \"salt and pepper\" or \"static\" noise, a median filter is typically used. See the [skimage.filter documentation](https://scikit-image.org/docs/dev/api/skimage.filters.html) for a list of available filters."
   ]
  },
  {
   "cell_type": "markdown",
   "metadata": {},
   "source": [
    "### Exercise: Blurring Bacteria Colonies\n",
    "\n",
    "As we move further into the workshop, we will see that in order to complete the colony-counting morphometric challenge at the end, we will need to read the bacteria colony images as grayscale, and blur them, before moving on to the tasks of actually counting the colonies. \n",
    "\n",
    "* Create a Python function to read one of the colony images as grayscale, and then apply a Gaussian blur to the image. You should also provide the sigma for the blur as a second function argument. \n",
    "\n",
    "* Do not alter the original image, use skimage.io.imsave(...) to save your results locally. \n",
    "* As a reminder, the images are located in ../data/coloniesX.tif\n",
    "\n",
    "_Hint: You can use string methods to automatically define an output file name given the input file name. Maybe do a 'dry run' first, meaning that instead of saving the blurred image to disk, just display the result and print the output file name. If that works as expected, save the blurred image to your hard drive using `skimage.io.imsave`._"
   ]
  },
  {
   "cell_type": "code",
   "execution_count": null,
   "metadata": {},
   "outputs": [],
   "source": []
  },
  {
   "cell_type": "code",
   "execution_count": null,
   "metadata": {},
   "outputs": [],
   "source": []
  }
 ],
 "metadata": {
  "kernelspec": {
   "display_name": "Python 3",
   "language": "python",
   "name": "python3"
  },
  "language_info": {
   "codemirror_mode": {
    "name": "ipython",
    "version": 3
   },
   "file_extension": ".py",
   "mimetype": "text/x-python",
   "name": "python",
   "nbconvert_exporter": "python",
   "pygments_lexer": "ipython3",
   "version": "3.7.6"
  }
 },
 "nbformat": 4,
 "nbformat_minor": 4
}
