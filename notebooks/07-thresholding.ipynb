{
 "cells": [
  {
   "cell_type": "markdown",
   "metadata": {},
   "source": [
    "# Thresholding\n",
    "\n",
    "In this episode, we will learn how to use skimage functions to apply \n",
    "thresholding to an image. Thresholding is a type of *image segmentation*,\n",
    "where we change the pixels of an image to make the image easier to \n",
    "analyze. In thresholding, we convert an image from color or grayscale into a \n",
    "*binary image*, i.e., one that is simply black and white. Most frequently, we \n",
    "use thresholding as a way to select regions of interest of an image, while \n",
    "ignoring the parts we are not concerned with. It is therefore one way to automatically\n",
    "create masks. \n",
    "\n",
    "We have already done some simple \n",
    "thresholding, in the \"Manipulating pixels\" section of the \n",
    " 3rd episode. In that case, we\n",
    "used a simple NumPy array manipulation to separate the pixels belonging to the\n",
    "root system of a plant from the black background. In this episode, we will \n",
    "learn how to use skimage functions to perform thresholding. Then, we will use the\n",
    "masks returned by these functions to select the parts of an image we are \n",
    "interested in. "
   ]
  },
  {
   "cell_type": "markdown",
   "metadata": {},
   "source": [
    "## Simple thresholding\n",
    "\n",
    "Consider this image, with a series of crudely cut shapes set against a white \n",
    "background. The black outline around the image is not part of the image.\n",
    "\n",
    "![Original shapes image](../fig/07-shapes-before.jpg)\n",
    "\n",
    "Now suppose we want to select only the shapes from the image. In other words,\n",
    "we want to leave the pixels belonging to the shapes \"on,\" while turning the \n",
    "rest of the pixels \"off,\" by setting their color channel values to zeros. The\n",
    "skimage library has several different methods of thresholding. We will start \n",
    "with the simplest version, which involves an important step of human \n",
    "input. Specifically, in this simple, *fixed-level thresholding*, we have to \n",
    "provide a threshold value, `t`.\n",
    "\n",
    "Then, we will use the \n",
    "`>` operator to apply the threshold `t`, a number in the closed range [0.0, 1.0].\n",
    "Pixels with color values on one \n",
    "side of `t` will be turned \"on,\" while pixels with color values on the other side\n",
    "will be turned \"off.\" In order to use this function, we have to determine a good \n",
    "value for `t`. How might we do that? Well, one way is to look at a grayscale\n",
    "histogram of the image. Here is the histogram produced by the \n",
    "code from the \n",
    "_Creating Histograms_ episode, if we\n",
    "run it on the colored shapes image shown above.\n",
    "\n",
    "![Grayscale histogram](../fig/07-shapes-histogram.png)\n",
    "\n",
    "Since the image has a white background, most of the pixels in the image are \n",
    "white. This corresponds nicely to what we see in the histogram: there is a\n",
    "spike near the value of 1.0. If we want to select the shapes and not the\n",
    "background, we want to turn off the white background pixels, while leaving the\n",
    "pixels for the shapes turned on. So, we should choose a value of `t` somewhere\n",
    "before the large peak and turn pixels above that value \"off\"."
   ]
  },
  {
   "cell_type": "markdown",
   "metadata": {},
   "source": [
    "### Exercise: Setting a fixed-level threshold\n",
    "\n",
    "Now, it is your turn to apply a simple thresholding.\n",
    "\n",
    "* By inspecting the histogram above, chose a threshold value `t` which separates the white background from the objects\n",
    "* Create a mask by using the `<` operator and the chosen threshold value `t`\n",
    "* Plot the mask using matplotlib's `imshow`\n",
    "* Apply the mask to the image \n",
    "* Use the histogram function provided in the code cell below to show how the pixel distribution has changed after thresholding\n",
    "\n",
    "Here are the lines of a Python program to apply simple thresholding to the image. For convenience a function plotting a grayscale histogram is also given. As usual, we first have to import the modules needed and open the image: "
   ]
  },
  {
   "cell_type": "code",
   "execution_count": null,
   "metadata": {},
   "outputs": [],
   "source": [
    "%load ../exercises/07-simple-thresholding.py"
   ]
  },
  {
   "cell_type": "code",
   "execution_count": null,
   "metadata": {},
   "outputs": [],
   "source": [
    "# 0.9 should be fine\n",
    "t = 0.9\n",
    "mask = image < t\n",
    "plt.imshow(mask, cmap = 'gray')"
   ]
  },
  {
   "cell_type": "code",
   "execution_count": null,
   "metadata": {},
   "outputs": [],
   "source": [
    "# create masked image\n",
    "sel = np.zeros_like(image)\n",
    "sel[mask] = image[mask]\n",
    "plt.imshow(sel, cmap = 'gray')"
   ]
  },
  {
   "cell_type": "code",
   "execution_count": null,
   "metadata": {},
   "outputs": [],
   "source": [
    "plot_histogram(image[mask])"
   ]
  },
  {
   "cell_type": "markdown",
   "metadata": {},
   "source": [
    "### Exercise: Blurring + Thresholding\n",
    "\n",
    "In many real life applications, applying a threshold directly to an aquired image may not be optimal. Consider the following example where noise was added to our collection of shapes:"
   ]
  },
  {
   "cell_type": "code",
   "execution_count": null,
   "metadata": {},
   "outputs": [],
   "source": [
    "%load ../exercises/07-blurring-simple-thresh.py"
   ]
  },
  {
   "cell_type": "markdown",
   "metadata": {},
   "source": [
    "As you can see, the _segmentation_ into foreground and background is not so good. However, we can use blurring to suppress most of the noise!\n",
    "\n",
    "* Again plot a histogram, this time of the noisy image already opened above. Note how the pixel distribution makes direct thresholding difficult. \n",
    "* From what you learned in the _Gaussian Blur_ episode blur the image before thresholding. Choose a sigma which suppresses the noise but keeps the shapes mostly intact.\n",
    "* Look at the histogram of the blurred image and compare it to the pixel distribution of the raw image. Now choose a threshold `t`.\n",
    "* Repeat the steps of the preceding exercise to create a mask and hence segment the blurred image\n",
    "\n",
    "_Hint: The gaussian filter is available as `skimage.filters.gaussian`_\n",
    "\n",
    "The final result should be much better segmented compared to thresholding without blurring first."
   ]
  },
  {
   "cell_type": "code",
   "execution_count": null,
   "metadata": {},
   "outputs": [],
   "source": [
    "# histogram of the noisy image\n",
    "plot_histogram(image)"
   ]
  },
  {
   "cell_type": "code",
   "execution_count": null,
   "metadata": {},
   "outputs": [],
   "source": [
    "# apply some gaussian blur\n",
    "import skimage.filters\n",
    "\n",
    "blurred = skimage.filters.gaussian(image, 3)\n",
    "plt.imshow(blurred, cmap = 'gray')"
   ]
  },
  {
   "cell_type": "code",
   "execution_count": null,
   "metadata": {},
   "outputs": [],
   "source": [
    "plot_histogram(blurred)"
   ]
  },
  {
   "cell_type": "code",
   "execution_count": null,
   "metadata": {},
   "outputs": [],
   "source": [
    "# create the mask\n",
    "t = 0.8\n",
    "mask = blurred < t\n",
    "plt.imshow(mask, cmap = 'gray')"
   ]
  },
  {
   "cell_type": "code",
   "execution_count": null,
   "metadata": {},
   "outputs": [],
   "source": [
    "# create masked image\n",
    "sel = np.zeros_like(blurred)\n",
    "sel[mask] = blurred[mask]\n",
    "plt.imshow(sel, cmap = 'gray')"
   ]
  },
  {
   "cell_type": "markdown",
   "metadata": {},
   "source": [
    "### Adaptive thresholding\n",
    "\n",
    "There are also skimage methods to perform *adaptive thresholding*. The chief \n",
    "advantage of adaptive thresholding is that the value of the threshold, t, is\n",
    "determined automatically for us. One such method, *Otsu's method*, is \n",
    "particularly useful for situations where the grayscale histogram of an image\n",
    "has two peaks. Consider this maize root system image, which we have seen \n",
    "before in the _Skimage Images_ episode.\n",
    "\n",
    "![Maize root system](../fig/07-roots-original.jpg)\n",
    "\n",
    "Now, look at the grayscale histogram of this image, as produced by our \n",
    "grayscale histogram code from the \n",
    "_Creating Histograms_ episode. \n",
    "\n",
    "![Maize root histogram](../fig/07-roots-histogram.png)\n",
    "\n",
    "The histogram has a significant peak around 0.2, and a second, albeit smaller\n",
    "peak very near 1.0. Thus, this image is a good candidate for thresholding with\n",
    "Otsu's method. The mathematical details of how this work are complicated (see \n",
    "the [skimage documentation](https://scikit-image.org/docs/dev/api/skimage.filters.html#threshold-otsu)\n",
    "if you are interested), but the outcome is that Otsu's method finds a threshold\n",
    "value between the two peaks of a grayscale histogram. \n",
    "\n",
    "The `skimage.filters.threshold_otsu()` function can be used to determine\n",
    "the adaptive threshold via Otsu's method. Then numpy comparison operators can be\n",
    "used to apply it as before."
   ]
  },
  {
   "cell_type": "code",
   "execution_count": null,
   "metadata": {},
   "outputs": [],
   "source": [
    "import skimage\n",
    "import numpy as np\n",
    "image = skimage.io.imread('../data/07-roots-original.tif', as_gray = True)\n"
   ]
  },
  {
   "cell_type": "code",
   "execution_count": null,
   "metadata": {},
   "outputs": [],
   "source": [
    "# blurring \n",
    "blurred = skimage.filters.gaussian(image, 1)\n",
    "\n",
    "# Otsu threshold\n",
    "t = skimage.filters.threshold_otsu(image)\n",
    "print(f'Otsu threshold: {t:.2f}')\n",
    "\n",
    "# create the mask\n",
    "mask = blurred > t\n",
    "plt.imshow(mask)"
   ]
  },
  {
   "cell_type": "code",
   "execution_count": null,
   "metadata": {},
   "outputs": [],
   "source": [
    "# create masked image\n",
    "sel = np.zeros_like(blurred)\n",
    "sel[mask] = image[mask]\n",
    "plt.imshow(sel)"
   ]
  },
  {
   "cell_type": "code",
   "execution_count": null,
   "metadata": {},
   "outputs": [],
   "source": []
  }
 ],
 "metadata": {
  "kernelspec": {
   "display_name": "Python 3",
   "language": "python",
   "name": "python3"
  },
  "language_info": {
   "codemirror_mode": {
    "name": "ipython",
    "version": 3
   },
   "file_extension": ".py",
   "mimetype": "text/x-python",
   "name": "python",
   "nbconvert_exporter": "python",
   "pygments_lexer": "ipython3",
   "version": "3.6.9"
  }
 },
 "nbformat": 4,
 "nbformat_minor": 4
}
