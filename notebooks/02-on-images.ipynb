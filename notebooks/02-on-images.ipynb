{
 "cells": [
  {
   "cell_type": "markdown",
   "metadata": {
    "slideshow": {
     "slide_type": "slide"
    }
   },
   "source": [
    "# We need to talk about images"
   ]
  },
  {
   "cell_type": "markdown",
   "metadata": {
    "slideshow": {
     "slide_type": "slide"
    }
   },
   "source": [
    "## Images are numbers organized in a grid\n",
    "\n",
    "* Image is composed of pixels:\n",
    "![Images and Numbers](../fig/01-imageequalsnumber.png)"
   ]
  },
  {
   "cell_type": "markdown",
   "metadata": {
    "slideshow": {
     "slide_type": "slide"
    }
   },
   "source": [
    "## Number representations"
   ]
  },
  {
   "cell_type": "markdown",
   "metadata": {
    "slideshow": {
     "slide_type": "fragment"
    }
   },
   "source": [
    "* `1 bit`: `0` or `1` (`False` or `True`) _aka_ `boolean`"
   ]
  },
  {
   "cell_type": "markdown",
   "metadata": {
    "slideshow": {
     "slide_type": "fragment"
    }
   },
   "source": [
    "* `8 bit`\n",
    "  * signed: `-128` to `127` _aka_ `int8`\n",
    "  * unsigned: `0` to `255` _aka_ `uint8`"
   ]
  },
  {
   "cell_type": "markdown",
   "metadata": {
    "slideshow": {
     "slide_type": "fragment"
    }
   },
   "source": [
    "* `16 bit`\n",
    "  * signed: `-32768` to `32767` _aka_ `int16`\n",
    "  * unsigned: `0` to `65535` _aka_ `uint16`"
   ]
  },
  {
   "cell_type": "markdown",
   "metadata": {
    "slideshow": {
     "slide_type": "slide"
    }
   },
   "source": [
    "## Coordinate system"
   ]
  },
  {
   "cell_type": "markdown",
   "metadata": {
    "slideshow": {
     "slide_type": "subslide"
    }
   },
   "source": [
    "### Image = Table\n",
    "\n",
    "* numbers are organized in a grid\n",
    "* like a table an image has _rows_ and _columns_\n",
    "* _row_ and _column_ indices start at 0\n",
    "* origin is in the **top-left** corner"
   ]
  },
  {
   "cell_type": "markdown",
   "metadata": {
    "slideshow": {
     "slide_type": "subslide"
    }
   },
   "source": [
    "![coordinates](../fig/02-coordinates.png)\n",
    "\n",
    "(puppy photo by Joe Caione on Unsplash)"
   ]
  },
  {
   "cell_type": "markdown",
   "metadata": {
    "slideshow": {
     "slide_type": "subslide"
    }
   },
   "source": [
    "### What about `x` and `y` (and `z`)?\n",
    "\n",
    "* using `x` and `y` to specify positions is very common, too (e.g. have a look at fiji).\n",
    "* We'll use `r` and `c` throughout this course\n",
    "* `r` corresponds to `y``\n",
    "* `c` corresponds to `x`"
   ]
  },
  {
   "cell_type": "markdown",
   "metadata": {
    "slideshow": {
     "slide_type": "fragment"
    }
   },
   "source": [
    "**BEWARE**: coordinates in `x`-`y` form are usually given in `(x, y)` order. In `r`-`c` coordinates, we use the `(r, c)` order. "
   ]
  },
  {
   "cell_type": "markdown",
   "metadata": {
    "slideshow": {
     "slide_type": "slide"
    }
   },
   "source": [
    "## Image formats summary\n",
    "\n",
    "| Format   | Compression   | Metadata   | Advantages            | Disadvantages      | \n",
    "| :------- | :------------ | :--------- | :-------------------- | :----------------- |\n",
    "| **TIFF**     | None, lossy,  | Yes        | High quality or       | Not universally viewable   |\n",
    "|          | or lossless   |            | smaller file size     |                    |\n",
    "| **PNG**      | lossless      | yes       | Universally viewable, | Large file sizes for natural images |\n",
    "|          |               |            | high quality          |                    |\n",
    "| **JPEG**     | Lossy         | Yes        | Universally viewable, | Detail may be lost |\n",
    "|          |               |            | smaller file size     |                    |"
   ]
  },
  {
   "cell_type": "code",
   "execution_count": null,
   "metadata": {},
   "outputs": [],
   "source": []
  }
 ],
 "metadata": {
  "kernelspec": {
   "display_name": "Python 3",
   "language": "python",
   "name": "python3"
  },
  "language_info": {
   "codemirror_mode": {
    "name": "ipython",
    "version": 3
   },
   "file_extension": ".py",
   "mimetype": "text/x-python",
   "name": "python",
   "nbconvert_exporter": "python",
   "pygments_lexer": "ipython3",
   "version": "3.7.6"
  }
 },
 "nbformat": 4,
 "nbformat_minor": 4
}
