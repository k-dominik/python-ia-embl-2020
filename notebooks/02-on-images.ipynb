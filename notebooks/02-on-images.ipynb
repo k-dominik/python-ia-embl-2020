{
 "cells": [
  {
   "cell_type": "markdown",
   "metadata": {
    "slideshow": {
     "slide_type": "slide"
    }
   },
   "source": [
    "# We need to talk about images"
   ]
  },
  {
   "cell_type": "markdown",
   "metadata": {
    "slideshow": {
     "slide_type": "slide"
    }
   },
   "source": [
    "## Images are numbers organized in a grid\n",
    "\n",
    "* Image is composed of pixels:\n",
    "\n",
    "![Images and Numbers](../fig/02-imageequalsnumber.png)"
   ]
  },
  {
   "cell_type": "markdown",
   "metadata": {
    "slideshow": {
     "slide_type": "slide"
    }
   },
   "source": [
    "## Number representations"
   ]
  },
  {
   "cell_type": "markdown",
   "metadata": {
    "slideshow": {
     "slide_type": "slide"
    }
   },
   "source": [
    "### There are `10` types of people: those who understand binary and those who dont."
   ]
  },
  {
   "cell_type": "markdown",
   "metadata": {
    "slideshow": {
     "slide_type": "subslide"
    }
   },
   "source": [
    "### 1 Bit\n",
    "\n",
    "~~~\n",
    "\n",
    "0  -> 0\n",
    "1  -> 1\n",
    "\n",
    "~~~\n",
    "\n",
    "1 bit: `0` or `1` (`False` or `True`) _aka_ boolean"
   ]
  },
  {
   "cell_type": "markdown",
   "metadata": {
    "slideshow": {
     "slide_type": "subslide"
    }
   },
   "source": [
    "### 2 Bits\n",
    "\n",
    "~~~\n",
    "\n",
    "0 0  -> 0\n",
    "0 1  -> 1\n",
    "1 0  -> 2\n",
    "1 1  -> 3\n",
    "\n",
    "~~~\n",
    "\n",
    "2 bits can encode 4 numbers"
   ]
  },
  {
   "cell_type": "markdown",
   "metadata": {
    "slideshow": {
     "slide_type": "fragment"
    }
   },
   "source": [
    "### There are `10` types of people: those who understand binary and those who dont."
   ]
  },
  {
   "cell_type": "markdown",
   "metadata": {
    "slideshow": {
     "slide_type": "slide"
    }
   },
   "source": [
    "## Common number representations for images\n",
    "\n",
    "* float: `-42.0 ... -2.4345 ... 3.4562 ...`\n",
    "* integer: `-42 ... -2 ... 3 ...`"
   ]
  },
  {
   "cell_type": "markdown",
   "metadata": {
    "slideshow": {
     "slide_type": "fragment"
    }
   },
   "source": [
    "* `8 bit integer`\n",
    "  * signed: `-128` to `127` _aka_ `int8`\n",
    "  * unsigned: `0` to `255` _aka_ `uint8`"
   ]
  },
  {
   "cell_type": "markdown",
   "metadata": {
    "slideshow": {
     "slide_type": "fragment"
    }
   },
   "source": [
    "* `16 bit integer`\n",
    "  * signed: `-32768` to `32767` _aka_ `int16`\n",
    "  * unsigned: `0` to `65535` _aka_ `uint16`"
   ]
  },
  {
   "cell_type": "markdown",
   "metadata": {
    "slideshow": {
     "slide_type": "slide"
    }
   },
   "source": [
    "## Coordinate system"
   ]
  },
  {
   "cell_type": "markdown",
   "metadata": {
    "slideshow": {
     "slide_type": "subslide"
    }
   },
   "source": [
    "### Image = Table\n",
    "\n",
    "* numbers are organized in a grid\n",
    "* like a table an image has _rows_ and _columns_\n",
    "* _row_ and _column_ indices start at 0\n",
    "* origin is in the **top-left** corner"
   ]
  },
  {
   "cell_type": "markdown",
   "metadata": {
    "slideshow": {
     "slide_type": "subslide"
    }
   },
   "source": [
    "![coordinates](../fig/02-coordinates.png)\n",
    "\n",
    "(puppy photo by Joe Caione on Unsplash)"
   ]
  },
  {
   "cell_type": "markdown",
   "metadata": {
    "slideshow": {
     "slide_type": "subslide"
    }
   },
   "source": [
    "### What about `x` and `y` (and `z`)?\n",
    "\n",
    "* using `x` and `y` to specify positions is very common, too (e.g. have a look at fiji).\n",
    "* We'll use `r` and `c` throughout this course\n",
    "* `r` corresponds to `y``\n",
    "* `c` corresponds to `x`"
   ]
  },
  {
   "cell_type": "markdown",
   "metadata": {
    "slideshow": {
     "slide_type": "fragment"
    }
   },
   "source": [
    "**BEWARE**: coordinates in `x`-`y` form are usually given in `(x, y)` order. In `r`-`c` coordinates, we use the `(r, c)` order. "
   ]
  },
  {
   "cell_type": "markdown",
   "metadata": {
    "slideshow": {
     "slide_type": "slide"
    }
   },
   "source": [
    "## Image Channels"
   ]
  },
  {
   "cell_type": "markdown",
   "metadata": {
    "slideshow": {
     "slide_type": "subslide"
    }
   },
   "source": [
    "* more than just a single value per pixel\n",
    "* -> multiple images stacked on top of each other\n",
    "* e.g. from multiple flurophores\n",
    "* also from different modalities after alignment\n",
    "* can be presented/viewed as different colors"
   ]
  },
  {
   "cell_type": "markdown",
   "metadata": {
    "slideshow": {
     "slide_type": "subslide"
    }
   },
   "source": [
    "### RGB as a special case\n",
    "\n",
    "* additive _color model_ where colors are composed of primary colors **r**ed, **g**reen and **b**lue\n",
    "* each primary color stored in a separate channel, so 3 values per pixels are stored\n",
    "* each value can be in the range of `[0..255]`\n",
    "* software for viewing recognizes this and interprets the triplets to generate a color mixture"
   ]
  },
  {
   "cell_type": "markdown",
   "metadata": {
    "slideshow": {
     "slide_type": "slide"
    }
   },
   "source": [
    "### Exercise: Thinking about RGB colors\n",
    "\n",
    "Suppose that we represent colors as triples (r, g, b), where each of r, g, and b is an integer in [0, 255]. What colors are represented by each of these triples?\n",
    "\n",
    " 1. (255, 0, 0)\n",
    " 2. (0, 255, 0)\n",
    " 3. (0, 0, 255)\n",
    " 4. (255, 255, 255)\n",
    " 5. (0, 0, 0)\n",
    " 6. (128, 128, 128)\n"
   ]
  },
  {
   "cell_type": "markdown",
   "metadata": {
    "slideshow": {
     "slide_type": "slide"
    }
   },
   "source": [
    "## Compression"
   ]
  },
  {
   "cell_type": "markdown",
   "metadata": {
    "slideshow": {
     "slide_type": "fragment"
    }
   },
   "source": [
    "### Lossless Compression\n",
    "\n",
    "* Algorithm that reorganizes the data in a more efficient way when saving\n",
    "* When loading the image, the reverse of the algorithm has to be applied\n",
    "* Reversing the compression process results in a file that is _identical_ to the original"
   ]
  },
  {
   "cell_type": "markdown",
   "metadata": {
    "slideshow": {
     "slide_type": "fragment"
    }
   },
   "source": [
    "### Lossy Compression\n",
    "\n",
    "* Algorithm that throws away some detail of the data when saving\n",
    "* Level of detail that is discared can be adjusted\n",
    "* Original image can never be reconstructed again"
   ]
  },
  {
   "cell_type": "markdown",
   "metadata": {
    "slideshow": {
     "slide_type": "slide"
    }
   },
   "source": [
    "## Image formats"
   ]
  },
  {
   "cell_type": "markdown",
   "metadata": {
    "slideshow": {
     "slide_type": "subslide"
    }
   },
   "source": [
    "### Components of an image file\n",
    "\n",
    "* image data (numbers)\n",
    "  * uncompressed/compressed\n",
    "* dimensions"
   ]
  },
  {
   "cell_type": "markdown",
   "metadata": {
    "slideshow": {
     "slide_type": "fragment"
    }
   },
   "source": [
    "* data-type (optional)"
   ]
  },
  {
   "cell_type": "markdown",
   "metadata": {
    "slideshow": {
     "slide_type": "fragment"
    }
   },
   "source": [
    "* meta-data (optional)\n",
    "  * pixel size (physical)\n",
    "  * channel names\n",
    "  * calibration\n",
    "  * software-specific values\n",
    "  * ..."
   ]
  },
  {
   "cell_type": "markdown",
   "metadata": {
    "slideshow": {
     "slide_type": "slide"
    }
   },
   "source": [
    "## Image formats summary\n",
    "\n",
    "| Format   | Compression   | Metadata   | Advantages            | Disadvantages      | \n",
    "| :------- | :------------ | :--------- | :-------------------- | :----------------- |\n",
    "| **TIFF**     | None, lossy,  | Yes        | High quality or       | Not universally viewable   |\n",
    "|          | or lossless   |            | smaller file size     | sooo many flavors                |\n",
    "| | | | | |\n",
    "| **PNG**      | lossless      | yes       | Universally viewable, | Large file sizes for natural images |\n",
    "|          |               |            | high quality          |                    |\n",
    "| | | | | |\n",
    "| **JPEG**     | Lossy         | Yes        | Universally viewable, | Detail may be lost |\n",
    "|          |               |            | smaller file size     |                    |\n",
    "\n",
    "* **TIFF**: Tagged Image File Format\n",
    "* **PNG**: Portable Network Graphics\n",
    "* **JPEG**: Joint Photographic Experts Group"
   ]
  }
 ],
 "metadata": {
  "kernelspec": {
   "display_name": "Python 3",
   "language": "python",
   "name": "python3"
  },
  "language_info": {
   "codemirror_mode": {
    "name": "ipython",
    "version": 3
   },
   "file_extension": ".py",
   "mimetype": "text/x-python",
   "name": "python",
   "nbconvert_exporter": "python",
   "pygments_lexer": "ipython3",
   "version": "3.7.6"
  }
 },
 "nbformat": 4,
 "nbformat_minor": 4
}
