{
 "cells": [
  {
   "cell_type": "markdown",
   "metadata": {},
   "source": [
    "# Edge Detection\n",
    "\n",
    "![An Edge](../fig/07-bw.jpg)"
   ]
  },
  {
   "cell_type": "markdown",
   "metadata": {},
   "source": [
    "## Line Profile"
   ]
  },
  {
   "cell_type": "code",
   "execution_count": null,
   "metadata": {},
   "outputs": [],
   "source": [
    "import skimage.io\n",
    "from matplotlib import pyplot as plt\n",
    "\n",
    "image = skimage.io.imread(\"../data/07-bw.jpg\")\n",
    "plt.plot(image[200, :])\n",
    "plt.plot(image[400, :])\n",
    "plt.plot(image[600, :])"
   ]
  },
  {
   "cell_type": "code",
   "execution_count": null,
   "metadata": {},
   "outputs": [],
   "source": [
    "# zoom in on the image\n",
    "skimage.io.imshow(image[200:250, 380:430])"
   ]
  },
  {
   "cell_type": "code",
   "execution_count": null,
   "metadata": {},
   "outputs": [],
   "source": [
    "# zoomed in, where would you place the edge?!\n",
    "plt.plot(range(400, 410), image[200, 400:410])"
   ]
  },
  {
   "cell_type": "markdown",
   "metadata": {},
   "source": [
    "## Canny Edge Detection"
   ]
  },
  {
   "cell_type": "code",
   "execution_count": null,
   "metadata": {},
   "outputs": [],
   "source": [
    "# created by John Canny in 1986\n",
    "# fancy algorithm composed of multiple steps\n",
    "# algorithm steps:\n",
    "    # gaussian blur, remove noise; !sigma\n",
    "    # sobel edge detection: derivative of curve fitted to pixels\n",
    "    # non-maximum suppression\n",
    "    # double threshold\n",
    "    # hysteresis\n",
    "# important part: parameters -> sigma, low, high threshold\n",
    "# read image as grayscale:\n",
    "import skimage.feature\n",
    "import skimage\n",
    "\n",
    "image = skimage.io.imread(\"../data/07-shapes.tif\", as_gray=True)\n",
    "sigma = 2\n",
    "low_threshold = 0.1\n",
    "high_threshold = 0.3\n",
    "edges = skimage.feature.canny(\n",
    "    image=image,\n",
    "    sigma=sigma,\n",
    "    low_threshold=low_threshold,\n",
    "    high_threshold=high_threshold,\n",
    ")\n",
    "plt.imshow(edges)\n",
    "# to get rid of artifacts\n",
    "# plt.imshow(edges, interpolation='bicubic')"
   ]
  },
  {
   "cell_type": "code",
   "execution_count": null,
   "metadata": {},
   "outputs": [],
   "source": []
  },
  {
   "cell_type": "code",
   "execution_count": null,
   "metadata": {},
   "outputs": [],
   "source": []
  },
  {
   "cell_type": "code",
   "execution_count": null,
   "metadata": {},
   "outputs": [],
   "source": []
  },
  {
   "cell_type": "code",
   "execution_count": null,
   "metadata": {},
   "outputs": [],
   "source": []
  },
  {
   "cell_type": "code",
   "execution_count": null,
   "metadata": {},
   "outputs": [],
   "source": []
  },
  {
   "cell_type": "code",
   "execution_count": null,
   "metadata": {},
   "outputs": [],
   "source": []
  },
  {
   "cell_type": "code",
   "execution_count": null,
   "metadata": {},
   "outputs": [],
   "source": []
  },
  {
   "cell_type": "code",
   "execution_count": null,
   "metadata": {},
   "outputs": [],
   "source": []
  },
  {
   "cell_type": "code",
   "execution_count": null,
   "metadata": {},
   "outputs": [],
   "source": []
  },
  {
   "cell_type": "code",
   "execution_count": null,
   "metadata": {},
   "outputs": [],
   "source": []
  },
  {
   "cell_type": "markdown",
   "metadata": {},
   "source": [
    "### Keypoints\n",
    "\n",
    "* The `skimage.viewer.ImageViewer` is extended using a `skimage.viewer.plugins.Plugin`.\n",
    "* We supply a filter function callback when creating a Plugin.\n",
    "* Parameters of the callback function are manipulated interactively by creating sliders with the `skimage.viewer.widgets.slider()` function and adding them to the plugin."
   ]
  }
 ],
 "metadata": {
  "kernelspec": {
   "display_name": "Python 3",
   "language": "python",
   "name": "python3"
  },
  "language_info": {
   "codemirror_mode": {
    "name": "ipython",
    "version": 3
   },
   "file_extension": ".py",
   "mimetype": "text/x-python",
   "name": "python",
   "nbconvert_exporter": "python",
   "pygments_lexer": "ipython3",
   "version": "3.7.6"
  }
 },
 "nbformat": 4,
 "nbformat_minor": 4
}
