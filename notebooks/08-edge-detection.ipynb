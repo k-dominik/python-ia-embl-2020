{
 "cells": [
  {
   "cell_type": "markdown",
   "metadata": {},
   "source": [
    "# Edge Detection\n",
    "\n",
    "![An Edge](../fig/07-bw.jpg)"
   ]
  },
  {
   "cell_type": "markdown",
   "metadata": {},
   "source": [
    "## Line Profile"
   ]
  },
  {
   "cell_type": "code",
   "execution_count": null,
   "metadata": {},
   "outputs": [],
   "source": [
    "import skimage.io\n",
    "from matplotlib import pyplot as plt\n",
    "\n",
    "image = skimage.io.imread(\"../data/07-bw.jpg\")\n",
    "plt.plot(image[200, :])\n",
    "plt.plot(image[400, :])\n",
    "plt.plot(image[600, :])"
   ]
  },
  {
   "cell_type": "code",
   "execution_count": null,
   "metadata": {},
   "outputs": [],
   "source": [
    "# zoom in on the image\n",
    "skimage.io.imshow(image[200:250, 380:430])"
   ]
  },
  {
   "cell_type": "code",
   "execution_count": null,
   "metadata": {},
   "outputs": [],
   "source": [
    "# zoomed in, where would you place the edge?!\n",
    "plt.plot(range(380, 430), image[200, 380:430])"
   ]
  },
  {
   "cell_type": "markdown",
   "metadata": {},
   "source": [
    "## Canny Edge Detection"
   ]
  },
  {
   "cell_type": "code",
   "execution_count": null,
   "metadata": {},
   "outputs": [],
   "source": [
    "# created by John Canny in 1986\n",
    "# fancy algorithm composed of multiple steps\n",
    "# algorithm steps:\n",
    "    # gaussian blur, remove noise; !sigma\n",
    "    # sobel edge detection: derivative of curve fitted to pixels\n",
    "    # non-maximum suppression\n",
    "    # double threshold\n",
    "    # hysteresis\n",
    "# important part: parameters -> sigma, low, high threshold\n",
    "# read image as grayscale:\n",
    "import skimage.feature\n",
    "import skimage.viewer\n",
    "import skimage\n",
    "\n",
    "image = skimage.io.imread(\"../data/07-shapes.tif\", as_gray=True)\n",
    "sigma = 2\n",
    "low_threshold = 0.1\n",
    "high_threshold = 0.3\n",
    "edges = skimage.feature.canny(\n",
    "    image=image,\n",
    "    sigma=sigma,\n",
    "    low_threshold=low_threshold,\n",
    "    high_threshold=high_threshold,\n",
    ")\n",
    "plt.imshow(edges)\n",
    "# to get rid of artifacts\n",
    "# plt.imshow(edges, interpolation='bicubic')\n",
    "# plt.rc(\"image\", interpolation='bilinear')"
   ]
  },
  {
   "cell_type": "code",
   "execution_count": null,
   "metadata": {},
   "outputs": [],
   "source": []
  },
  {
   "cell_type": "markdown",
   "metadata": {},
   "source": [
    "## Viewer plugins: Interact with the image viewer"
   ]
  },
  {
   "cell_type": "code",
   "execution_count": null,
   "metadata": {},
   "outputs": [],
   "source": [
    "# parameters are interdependent, hard to \"guess\"\n",
    "image = skimage.io.imread(\"../data/07-beads.jpg\", as_gray=True)\n",
    "\n",
    "viewer = skimage.viewer.ImageViewer(image)\n",
    "\n",
    "canny_plugin = skimage.viewer.plugins.Plugin(image_filter=skimage.feature.canny)\n",
    "canny_plugin.name = \"Canny Filter Plugin\"\n",
    "\n",
    "# Add sliders for the parameters\n",
    "# The filter function will be called with the slider parameters according to their names as keyword arguments. So it is very important to name the sliders appropriately.\n",
    "canny_plugin += skimage.viewer.widgets.Slider(\n",
    "    name=\"sigma\", low=0.0, high=7.0, value=2.0\n",
    ")\n",
    "canny_plugin += skimage.viewer.widgets.Slider(\n",
    "    name=\"low_threshold\", low=0.0, high=1.0, value=0.1\n",
    ")\n",
    "canny_plugin += skimage.viewer.widgets.Slider(\n",
    "    name=\"high_threshold\", low=0.0, high=1.0, value=0.2\n",
    ")\n",
    "viewer += canny_plugin\n",
    "viewer.show()"
   ]
  },
  {
   "cell_type": "markdown",
   "metadata": {},
   "source": [
    "### Exercise:\n",
    "\n",
    "Load the `beads.jpg` image from the data folder and use the interactive viewer to find the values that produce the following result after filtering:\n",
    "\n",
    "![beads result](../fig/07-beads-out.png)"
   ]
  },
  {
   "cell_type": "code",
   "execution_count": null,
   "metadata": {},
   "outputs": [],
   "source": [
    "# img = skimage.io.imread(\"../fig/07-beads.jpg\", as_gray=True)\n",
    "# edge = skimage.feature.canny(img, sigma=5, low_threshold=0.01, high_threshold=0.04)\n",
    "# edge = skimage.img_as_ubyte(edge)\n",
    "# skimage.io.imsave(\"../fig/07-beads-out.png\", arr=edge)"
   ]
  },
  {
   "cell_type": "markdown",
   "metadata": {},
   "source": [
    "### Exercise: Using sliders for thresholding\n",
    "\n",
    "Let's apply what we know about creating sliders to another, similar situation:\n",
    "Consider this image (`..data/maize-roots.tif`) of a collection of maize seedlings, and suppose we wish to use simple fixed-level thresholding to **mask out** everything that is not part of one of the plants."
   ]
  },
  {
   "cell_type": "code",
   "execution_count": null,
   "metadata": {},
   "outputs": [],
   "source": [
    "image = skimage.io.imread(\"../data/maize-roots.tif\", as_gray=True)\n",
    "\n",
    "def filter_function(image, sigma, threshold):\n",
    "    masked = image.copy()\n",
    "    masked[skimage.filters.gaussian(image, sigma=sigma) <= threshold] = 0\n",
    "    return masked\n",
    "\n",
    "smooth_threshold_plugin = skimage.viewer.plugins.Plugin(\n",
    "    image_filter=filter_function\n",
    ")\n",
    "\n",
    "smooth_threshold_plugin.name = \"Smooth and Threshold Plugin\"\n",
    "\n",
    "smooth_threshold_plugin += skimage.viewer.widgets.Slider(\n",
    "    \"sigma\", low=0.0, high=7.0, value=1.0\n",
    ")\n",
    "smooth_threshold_plugin += skimage.viewer.widgets.Slider(\n",
    "    \"threshold\", low=0.0, high=1.0, value=0.5\n",
    ")\n",
    "\n",
    "\n",
    "viewer = skimage.viewer.ImageViewer(image=image)\n",
    "viewer += smooth_threshold_plugin\n",
    "viewer.show()"
   ]
  },
  {
   "cell_type": "markdown",
   "metadata": {},
   "source": [
    "### Keypoints\n",
    "\n",
    "* The `skimage.viewer.ImageViewer` is extended using a `skimage.viewer.plugins.Plugin`.\n",
    "* We supply a filter function callback when creating a Plugin.\n",
    "* Parameters of the callback function are manipulated interactively by creating sliders with the `skimage.viewer.widgets.slider()` function and adding them to the plugin."
   ]
  }
 ],
 "metadata": {
  "kernelspec": {
   "display_name": "Python 3",
   "language": "python",
   "name": "python3"
  },
  "language_info": {
   "codemirror_mode": {
    "name": "ipython",
    "version": 3
   },
   "file_extension": ".py",
   "mimetype": "text/x-python",
   "name": "python",
   "nbconvert_exporter": "python",
   "pygments_lexer": "ipython3",
   "version": "3.6.9"
  }
 },
 "nbformat": 4,
 "nbformat_minor": 4
}
